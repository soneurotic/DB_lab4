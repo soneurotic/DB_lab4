{
 "cells": [
  {
   "cell_type": "code",
   "execution_count": 1,
   "id": "e578f528",
   "metadata": {},
   "outputs": [],
   "source": [
    "import pymongo\n",
    "from bson import ObjectId\n",
    "from datetime import datetime\n",
    "import numpy as np\n",
    "import random"
   ]
  },
  {
   "cell_type": "code",
   "execution_count": 2,
   "id": "daeb8634",
   "metadata": {},
   "outputs": [],
   "source": [
    "myclient = pymongo.MongoClient(\"mongodb://localhost:27017/\")\n",
    "mydb = myclient[\"lab4\"]\n",
    "\n",
    "items = mydb[\"items\"]"
   ]
  },
  {
   "cell_type": "markdown",
   "id": "d76f51d6",
   "metadata": {},
   "source": [
    "### Завдання:\n",
    "\n",
    "### 1.\n",
    "\n",
    "Вам необхідно змоделювати інтернет-магазин який торгує найрізноманітнішими товарами (тобто у яких різний набір властивостей) - items. \n",
    "\n",
    "А так же навчитися виконувати базові запити до MongoDB:  http://docs.mongodb.org/manual/core/read-operations-introduction/ "
   ]
  },
  {
   "cell_type": "markdown",
   "id": "2dcd4775",
   "metadata": {},
   "source": [
    "#### 1.1 Створіть декілька товарів з різним набором властивостей Phone/TV/Smart Watch/ .... \n",
    "\n",
    "Наприклад:\n",
    "\n",
    "{\n",
    "\n",
    "\t\"category\" : \"Phone\",\n",
    "    \n",
    "\t\"model\" : \"iPhone 6\",\n",
    "    \n",
    "\t\"producer\" : \"Apple\",\n",
    "    \n",
    "\t\"price\" : 600\n",
    "    \n",
    "}\n"
   ]
  },
  {
   "cell_type": "code",
   "execution_count": 3,
   "id": "25ccb8b2",
   "metadata": {},
   "outputs": [
    {
     "data": {
      "text/plain": [
       "InsertManyResult([ObjectId('666b440a390773dfeb122b05'), ObjectId('666b440a390773dfeb122b06'), ObjectId('666b440a390773dfeb122b07'), ObjectId('666b440a390773dfeb122b08'), ObjectId('666b440a390773dfeb122b09'), ObjectId('666b440a390773dfeb122b0a'), ObjectId('666b440a390773dfeb122b0b'), ObjectId('666b440a390773dfeb122b0c'), ObjectId('666b440a390773dfeb122b0d'), ObjectId('666b440a390773dfeb122b0e'), ObjectId('666b440a390773dfeb122b0f'), ObjectId('666b440a390773dfeb122b10'), ObjectId('666b440a390773dfeb122b11'), ObjectId('666b440a390773dfeb122b12'), ObjectId('666b440a390773dfeb122b13'), ObjectId('666b440a390773dfeb122b14'), ObjectId('666b440a390773dfeb122b15'), ObjectId('666b440a390773dfeb122b16'), ObjectId('666b440a390773dfeb122b17'), ObjectId('666b440a390773dfeb122b18')], acknowledged=True)"
      ]
     },
     "execution_count": 3,
     "metadata": {},
     "output_type": "execute_result"
    }
   ],
   "source": [
    "some_items = [\n",
    "    {\n",
    "        \"category\": \"Phone\",\n",
    "        \"model\": \"iPhone 6\",\n",
    "        \"producer\": \"Apple\",\n",
    "        \"price\": 600,\n",
    "        \"operating_system\": \"iOS\",\n",
    "        \"storage\": \"64GB\"\n",
    "    },\n",
    "    {\n",
    "        \"category\": \"Phone\",\n",
    "        \"model\": \"Galaxy S21\",\n",
    "        \"producer\": \"Samsung\",\n",
    "        \"price\": 800,\n",
    "        \"operating_system\": \"Android\",\n",
    "        \"storage\": \"128GB\"\n",
    "    },\n",
    "    {\n",
    "        \"category\": \"Phone\",\n",
    "        \"model\": \"Pixel 5\",\n",
    "        \"producer\": \"Google\",\n",
    "        \"price\": 700,\n",
    "        \"operating_system\": \"Android\",\n",
    "        \"storage\": \"128GB\"\n",
    "    },\n",
    "    {\n",
    "        \"category\": \"Phone\",\n",
    "        \"model\": \"OnePlus 9\",\n",
    "        \"producer\": \"OnePlus\",\n",
    "        \"price\": 750,\n",
    "        \"operating_system\": \"Android\",\n",
    "        \"storage\": \"256GB\"\n",
    "    },\n",
    "    {\n",
    "        \"category\": \"TV\",\n",
    "        \"model\": \"QLED Q80T\",\n",
    "        \"producer\": \"Samsung\",\n",
    "        \"price\": 1200,\n",
    "        \"screen_size\": \"65 inches\",\n",
    "        \"resolution\": \"4K\"\n",
    "    },\n",
    "    {\n",
    "        \"category\": \"TV\",\n",
    "        \"model\": \"OLED CX\",\n",
    "        \"producer\": \"LG\",\n",
    "        \"price\": 1800,\n",
    "        \"screen_size\": \"65 inches\",\n",
    "        \"resolution\": \"4K\"\n",
    "    },\n",
    "    {\n",
    "        \"category\": \"Smart Watch\",\n",
    "        \"model\": \"Apple Watch Series 6\",\n",
    "        \"producer\": \"Apple\",\n",
    "        \"price\": 400,\n",
    "        \"operating_system\": \"watchOS\",\n",
    "        \"features\": [\"Heart Rate Monitor\", \"GPS\"]\n",
    "    },\n",
    "    {\n",
    "        \"category\": \"Smart Watch\",\n",
    "        \"model\": \"Galaxy Watch 3\",\n",
    "        \"producer\": \"Samsung\",\n",
    "        \"price\": 350,\n",
    "        \"operating_system\": \"Tizen\",\n",
    "        \"features\": [\"Heart Rate Monitor\", \"Sleep Tracking\"]\n",
    "    },\n",
    "    {\n",
    "        \"category\": \"Smart Watch\",\n",
    "        \"model\": \"Fitbit Sense\",\n",
    "        \"producer\": \"Fitbit\",\n",
    "        \"price\": 300,\n",
    "        \"operating_system\": \"Fitbit OS\",\n",
    "        \"features\": [\"Heart Rate Monitor\", \"Stress Management\"]\n",
    "    },\n",
    "    {\n",
    "        \"category\": \"Smart Watch\",\n",
    "        \"model\": \"Garmin Venu\",\n",
    "        \"producer\": \"Garmin\",\n",
    "        \"price\": 350,\n",
    "        \"operating_system\": \"Garmin OS\",\n",
    "        \"features\": [\"GPS\", \"Fitness Tracking\"]\n",
    "    },\n",
    "    {\n",
    "        \"category\": \"Smart Watch\",\n",
    "        \"model\": \"Fossil Gen 5\",\n",
    "        \"producer\": \"Fossil\",\n",
    "        \"price\": 280,\n",
    "        \"operating_system\": \"Wear OS\",\n",
    "        \"features\": [\"Heart Rate Monitor\", \"NFC\"]\n",
    "    },\n",
    "    {\n",
    "        \"category\": \"Laptop\",\n",
    "        \"model\": \"MacBook Pro\",\n",
    "        \"producer\": \"Apple\",\n",
    "        \"price\": 2000,\n",
    "        \"processor\": \"M1\",\n",
    "        \"ram\": \"16GB\",\n",
    "        \"storage\": \"1TB\"\n",
    "    },\n",
    "    {\n",
    "        \"category\": \"Laptop\",\n",
    "        \"model\": \"ThinkPad X1 Carbon\",\n",
    "        \"producer\": \"Lenovo\",\n",
    "        \"price\": 1800,\n",
    "        \"processor\": \"Intel i7\",\n",
    "        \"ram\": \"16GB\",\n",
    "        \"storage\": \"1TB\"\n",
    "    },\n",
    "    {\n",
    "        \"category\": \"Laptop\",\n",
    "        \"model\": \"Surface Laptop 4\",\n",
    "        \"producer\": \"Microsoft\",\n",
    "        \"price\": 1700,\n",
    "        \"processor\": \"AMD Ryzen 7\",\n",
    "        \"ram\": \"16GB\",\n",
    "        \"storage\": \"512GB\"\n",
    "    },\n",
    "    {\n",
    "        \"category\": \"Laptop\",\n",
    "        \"model\": \"HP Spectre x360\",\n",
    "        \"producer\": \"HP\",\n",
    "        \"price\": 1600,\n",
    "        \"processor\": \"Intel i7\",\n",
    "        \"ram\": \"16GB\",\n",
    "        \"storage\": \"1TB\"\n",
    "    },\n",
    "    {\n",
    "        \"category\": \"Tablet\",\n",
    "        \"model\": \"iPad Pro\",\n",
    "        \"producer\": \"Apple\",\n",
    "        \"price\": 1100,\n",
    "        \"screen_size\": \"12.9 inches\",\n",
    "        \"storage\": \"256GB\"\n",
    "    },\n",
    "    {\n",
    "        \"category\": \"Tablet\",\n",
    "        \"model\": \"Galaxy Tab S7\",\n",
    "        \"producer\": \"Samsung\",\n",
    "        \"price\": 850,\n",
    "        \"screen_size\": \"11 inches\",\n",
    "        \"storage\": \"128GB\"\n",
    "    },\n",
    "    {\n",
    "        \"category\": \"Tablet\",\n",
    "        \"model\": \"Surface Pro 7\",\n",
    "        \"producer\": \"Microsoft\",\n",
    "        \"price\": 900,\n",
    "        \"screen_size\": \"12.3 inches\",\n",
    "        \"storage\": \"128GB\"\n",
    "    },\n",
    "    {\n",
    "        \"category\": \"Tablet\",\n",
    "        \"model\": \"Fire HD 10\",\n",
    "        \"producer\": \"Amazon\",\n",
    "        \"price\": 150,\n",
    "        \"screen_size\": \"10.1 inches\",\n",
    "        \"storage\": \"64GB\"\n",
    "    },\n",
    "    {\n",
    "        \"category\": \"Tablet\",\n",
    "        \"model\": \"Lenovo Tab P11 Pro\",\n",
    "        \"producer\": \"Lenovo\",\n",
    "        \"price\": 500,\n",
    "        \"screen_size\": \"11.5 inches\",\n",
    "        \"storage\": \"128GB\"\n",
    "    }\n",
    "]\n",
    "\n",
    "items.insert_many(some_items)"
   ]
  },
  {
   "cell_type": "code",
   "execution_count": 4,
   "id": "9f84945c",
   "metadata": {},
   "outputs": [],
   "source": [
    "items_ids = np.array([str(item['_id']) for item in items.find()])"
   ]
  },
  {
   "cell_type": "markdown",
   "id": "67c7d8d0",
   "metadata": {},
   "source": [
    "#### 1.2 Напишіть запит, який виводить усі товари (відображення у JSON)"
   ]
  },
  {
   "cell_type": "code",
   "execution_count": 5,
   "id": "5a8b953bf16a365d",
   "metadata": {
    "ExecuteTime": {
     "end_time": "2024-05-06T23:44:12.131200500Z",
     "start_time": "2024-05-06T23:44:12.064658500Z"
    }
   },
   "outputs": [
    {
     "data": {
      "text/plain": [
       "[{'_id': ObjectId('666b440a390773dfeb122b05'),\n",
       "  'category': 'Phone',\n",
       "  'model': 'iPhone 6',\n",
       "  'producer': 'Apple',\n",
       "  'price': 600,\n",
       "  'operating_system': 'iOS',\n",
       "  'storage': '64GB'},\n",
       " {'_id': ObjectId('666b440a390773dfeb122b06'),\n",
       "  'category': 'Phone',\n",
       "  'model': 'Galaxy S21',\n",
       "  'producer': 'Samsung',\n",
       "  'price': 800,\n",
       "  'operating_system': 'Android',\n",
       "  'storage': '128GB'},\n",
       " {'_id': ObjectId('666b440a390773dfeb122b07'),\n",
       "  'category': 'Phone',\n",
       "  'model': 'Pixel 5',\n",
       "  'producer': 'Google',\n",
       "  'price': 700,\n",
       "  'operating_system': 'Android',\n",
       "  'storage': '128GB'},\n",
       " {'_id': ObjectId('666b440a390773dfeb122b08'),\n",
       "  'category': 'Phone',\n",
       "  'model': 'OnePlus 9',\n",
       "  'producer': 'OnePlus',\n",
       "  'price': 750,\n",
       "  'operating_system': 'Android',\n",
       "  'storage': '256GB'},\n",
       " {'_id': ObjectId('666b440a390773dfeb122b09'),\n",
       "  'category': 'TV',\n",
       "  'model': 'QLED Q80T',\n",
       "  'producer': 'Samsung',\n",
       "  'price': 1200,\n",
       "  'screen_size': '65 inches',\n",
       "  'resolution': '4K'},\n",
       " {'_id': ObjectId('666b440a390773dfeb122b0a'),\n",
       "  'category': 'TV',\n",
       "  'model': 'OLED CX',\n",
       "  'producer': 'LG',\n",
       "  'price': 1800,\n",
       "  'screen_size': '65 inches',\n",
       "  'resolution': '4K'},\n",
       " {'_id': ObjectId('666b440a390773dfeb122b0b'),\n",
       "  'category': 'Smart Watch',\n",
       "  'model': 'Apple Watch Series 6',\n",
       "  'producer': 'Apple',\n",
       "  'price': 400,\n",
       "  'operating_system': 'watchOS',\n",
       "  'features': ['Heart Rate Monitor', 'GPS']},\n",
       " {'_id': ObjectId('666b440a390773dfeb122b0c'),\n",
       "  'category': 'Smart Watch',\n",
       "  'model': 'Galaxy Watch 3',\n",
       "  'producer': 'Samsung',\n",
       "  'price': 350,\n",
       "  'operating_system': 'Tizen',\n",
       "  'features': ['Heart Rate Monitor', 'Sleep Tracking']},\n",
       " {'_id': ObjectId('666b440a390773dfeb122b0d'),\n",
       "  'category': 'Smart Watch',\n",
       "  'model': 'Fitbit Sense',\n",
       "  'producer': 'Fitbit',\n",
       "  'price': 300,\n",
       "  'operating_system': 'Fitbit OS',\n",
       "  'features': ['Heart Rate Monitor', 'Stress Management']},\n",
       " {'_id': ObjectId('666b440a390773dfeb122b0e'),\n",
       "  'category': 'Smart Watch',\n",
       "  'model': 'Garmin Venu',\n",
       "  'producer': 'Garmin',\n",
       "  'price': 350,\n",
       "  'operating_system': 'Garmin OS',\n",
       "  'features': ['GPS', 'Fitness Tracking']},\n",
       " {'_id': ObjectId('666b440a390773dfeb122b0f'),\n",
       "  'category': 'Smart Watch',\n",
       "  'model': 'Fossil Gen 5',\n",
       "  'producer': 'Fossil',\n",
       "  'price': 280,\n",
       "  'operating_system': 'Wear OS',\n",
       "  'features': ['Heart Rate Monitor', 'NFC']},\n",
       " {'_id': ObjectId('666b440a390773dfeb122b10'),\n",
       "  'category': 'Laptop',\n",
       "  'model': 'MacBook Pro',\n",
       "  'producer': 'Apple',\n",
       "  'price': 2000,\n",
       "  'processor': 'M1',\n",
       "  'ram': '16GB',\n",
       "  'storage': '1TB'},\n",
       " {'_id': ObjectId('666b440a390773dfeb122b11'),\n",
       "  'category': 'Laptop',\n",
       "  'model': 'ThinkPad X1 Carbon',\n",
       "  'producer': 'Lenovo',\n",
       "  'price': 1800,\n",
       "  'processor': 'Intel i7',\n",
       "  'ram': '16GB',\n",
       "  'storage': '1TB'},\n",
       " {'_id': ObjectId('666b440a390773dfeb122b12'),\n",
       "  'category': 'Laptop',\n",
       "  'model': 'Surface Laptop 4',\n",
       "  'producer': 'Microsoft',\n",
       "  'price': 1700,\n",
       "  'processor': 'AMD Ryzen 7',\n",
       "  'ram': '16GB',\n",
       "  'storage': '512GB'},\n",
       " {'_id': ObjectId('666b440a390773dfeb122b13'),\n",
       "  'category': 'Laptop',\n",
       "  'model': 'HP Spectre x360',\n",
       "  'producer': 'HP',\n",
       "  'price': 1600,\n",
       "  'processor': 'Intel i7',\n",
       "  'ram': '16GB',\n",
       "  'storage': '1TB'},\n",
       " {'_id': ObjectId('666b440a390773dfeb122b14'),\n",
       "  'category': 'Tablet',\n",
       "  'model': 'iPad Pro',\n",
       "  'producer': 'Apple',\n",
       "  'price': 1100,\n",
       "  'screen_size': '12.9 inches',\n",
       "  'storage': '256GB'},\n",
       " {'_id': ObjectId('666b440a390773dfeb122b15'),\n",
       "  'category': 'Tablet',\n",
       "  'model': 'Galaxy Tab S7',\n",
       "  'producer': 'Samsung',\n",
       "  'price': 850,\n",
       "  'screen_size': '11 inches',\n",
       "  'storage': '128GB'},\n",
       " {'_id': ObjectId('666b440a390773dfeb122b16'),\n",
       "  'category': 'Tablet',\n",
       "  'model': 'Surface Pro 7',\n",
       "  'producer': 'Microsoft',\n",
       "  'price': 900,\n",
       "  'screen_size': '12.3 inches',\n",
       "  'storage': '128GB'},\n",
       " {'_id': ObjectId('666b440a390773dfeb122b17'),\n",
       "  'category': 'Tablet',\n",
       "  'model': 'Fire HD 10',\n",
       "  'producer': 'Amazon',\n",
       "  'price': 150,\n",
       "  'screen_size': '10.1 inches',\n",
       "  'storage': '64GB'},\n",
       " {'_id': ObjectId('666b440a390773dfeb122b18'),\n",
       "  'category': 'Tablet',\n",
       "  'model': 'Lenovo Tab P11 Pro',\n",
       "  'producer': 'Lenovo',\n",
       "  'price': 500,\n",
       "  'screen_size': '11.5 inches',\n",
       "  'storage': '128GB'}]"
      ]
     },
     "execution_count": 5,
     "metadata": {},
     "output_type": "execute_result"
    }
   ],
   "source": [
    "list(items.find())"
   ]
  },
  {
   "cell_type": "markdown",
   "id": "2c0812e9",
   "metadata": {},
   "source": [
    "#### 1.3 Підрахуйте скільки товарів у певної категорії"
   ]
  },
  {
   "cell_type": "code",
   "execution_count": 6,
   "id": "80b6b0df6cb75c09",
   "metadata": {
    "ExecuteTime": {
     "end_time": "2024-05-06T23:44:12.193860100Z",
     "start_time": "2024-05-06T23:44:12.129206400Z"
    }
   },
   "outputs": [
    {
     "data": {
      "text/plain": [
       "5"
      ]
     },
     "execution_count": 6,
     "metadata": {},
     "output_type": "execute_result"
    }
   ],
   "source": [
    "items.count_documents({'category': 'Smart Watch'})"
   ]
  },
  {
   "cell_type": "markdown",
   "id": "d93c5a5f",
   "metadata": {},
   "source": [
    "#### 1.4 Підрахуйте скільки є різних категорій товарів"
   ]
  },
  {
   "cell_type": "code",
   "execution_count": 7,
   "id": "99edc9815c6d72f3",
   "metadata": {
    "ExecuteTime": {
     "end_time": "2024-05-06T23:44:12.254929300Z",
     "start_time": "2024-05-06T23:44:12.188854600Z"
    }
   },
   "outputs": [
    {
     "data": {
      "text/plain": [
       "5"
      ]
     },
     "execution_count": 7,
     "metadata": {},
     "output_type": "execute_result"
    }
   ],
   "source": [
    "len(items.distinct('category'))"
   ]
  },
  {
   "cell_type": "markdown",
   "id": "2239e20e",
   "metadata": {},
   "source": [
    "#### 1.5 Виведіть список всіх виробників товарів без повторів"
   ]
  },
  {
   "cell_type": "code",
   "execution_count": 8,
   "id": "5736a4316037daf8",
   "metadata": {
    "ExecuteTime": {
     "end_time": "2024-05-06T23:44:12.313326500Z",
     "start_time": "2024-05-06T23:44:12.248915300Z"
    }
   },
   "outputs": [
    {
     "data": {
      "text/plain": [
       "['Amazon',\n",
       " 'Apple',\n",
       " 'Fitbit',\n",
       " 'Fossil',\n",
       " 'Garmin',\n",
       " 'Google',\n",
       " 'HP',\n",
       " 'LG',\n",
       " 'Lenovo',\n",
       " 'Microsoft',\n",
       " 'OnePlus',\n",
       " 'Samsung']"
      ]
     },
     "execution_count": 8,
     "metadata": {},
     "output_type": "execute_result"
    }
   ],
   "source": [
    "items.distinct('producer')"
   ]
  },
  {
   "cell_type": "markdown",
   "id": "d1845773",
   "metadata": {},
   "source": [
    "#### 1.6 Напишіть запити, які вибирають товари за різними критеріям і їх сукупності: "
   ]
  },
  {
   "cell_type": "markdown",
   "id": "fded37ee",
   "metadata": {},
   "source": [
    "    а) категорія та ціна (в проміжку) - конструкція $and, "
   ]
  },
  {
   "cell_type": "code",
   "execution_count": 9,
   "id": "21d70d547c149e7a",
   "metadata": {
    "ExecuteTime": {
     "end_time": "2024-05-06T23:44:12.374547Z",
     "start_time": "2024-05-06T23:44:12.309323200Z"
    }
   },
   "outputs": [
    {
     "data": {
      "text/plain": [
       "[{'_id': ObjectId('666b440a390773dfeb122b0b'),\n",
       "  'category': 'Smart Watch',\n",
       "  'model': 'Apple Watch Series 6',\n",
       "  'producer': 'Apple',\n",
       "  'price': 400,\n",
       "  'operating_system': 'watchOS',\n",
       "  'features': ['Heart Rate Monitor', 'GPS']},\n",
       " {'_id': ObjectId('666b440a390773dfeb122b0c'),\n",
       "  'category': 'Smart Watch',\n",
       "  'model': 'Galaxy Watch 3',\n",
       "  'producer': 'Samsung',\n",
       "  'price': 350,\n",
       "  'operating_system': 'Tizen',\n",
       "  'features': ['Heart Rate Monitor', 'Sleep Tracking']},\n",
       " {'_id': ObjectId('666b440a390773dfeb122b0e'),\n",
       "  'category': 'Smart Watch',\n",
       "  'model': 'Garmin Venu',\n",
       "  'producer': 'Garmin',\n",
       "  'price': 350,\n",
       "  'operating_system': 'Garmin OS',\n",
       "  'features': ['GPS', 'Fitness Tracking']}]"
      ]
     },
     "execution_count": 9,
     "metadata": {},
     "output_type": "execute_result"
    }
   ],
   "source": [
    "cond = {\n",
    "    '$and': [\n",
    "        {'category': 'Smart Watch'}, \n",
    "        {'price': {'$gt': 300, '$lt': 450}}\n",
    "    ]\n",
    "}\n",
    "\n",
    "result = items.find(cond)\n",
    "\n",
    "list(result)"
   ]
  },
  {
   "cell_type": "markdown",
   "id": "036acda4",
   "metadata": {},
   "source": [
    "    b) модель чи одна чи інша - конструкція $or,"
   ]
  },
  {
   "cell_type": "code",
   "execution_count": 10,
   "id": "ce8f693467af2b5f",
   "metadata": {
    "ExecuteTime": {
     "end_time": "2024-05-06T23:44:12.430599700Z",
     "start_time": "2024-05-06T23:44:12.367559200Z"
    }
   },
   "outputs": [
    {
     "data": {
      "text/plain": [
       "[{'_id': ObjectId('666b440a390773dfeb122b15'),\n",
       "  'category': 'Tablet',\n",
       "  'model': 'Galaxy Tab S7',\n",
       "  'producer': 'Samsung',\n",
       "  'price': 850,\n",
       "  'screen_size': '11 inches',\n",
       "  'storage': '128GB'},\n",
       " {'_id': ObjectId('666b440a390773dfeb122b18'),\n",
       "  'category': 'Tablet',\n",
       "  'model': 'Lenovo Tab P11 Pro',\n",
       "  'producer': 'Lenovo',\n",
       "  'price': 500,\n",
       "  'screen_size': '11.5 inches',\n",
       "  'storage': '128GB'}]"
      ]
     },
     "execution_count": 10,
     "metadata": {},
     "output_type": "execute_result"
    }
   ],
   "source": [
    "cond = {\n",
    "    '$or': [\n",
    "        {'model': 'Galaxy Tab S7'}, \n",
    "        {'model': 'Lenovo Tab P11 Pro'}\n",
    "    ]\n",
    "}\n",
    "\n",
    "result = items.find(cond)\n",
    "\n",
    "list(result)"
   ]
  },
  {
   "cell_type": "markdown",
   "id": "0e5e6584",
   "metadata": {},
   "source": [
    "    c) виробники з переліку - конструкція $in"
   ]
  },
  {
   "cell_type": "code",
   "execution_count": 11,
   "id": "c20e19409cffe8f8",
   "metadata": {
    "ExecuteTime": {
     "end_time": "2024-05-06T23:44:12.500941200Z",
     "start_time": "2024-05-06T23:44:12.434609500Z"
    }
   },
   "outputs": [
    {
     "data": {
      "text/plain": [
       "[{'_id': ObjectId('666b440a390773dfeb122b05'),\n",
       "  'category': 'Phone',\n",
       "  'model': 'iPhone 6',\n",
       "  'producer': 'Apple',\n",
       "  'price': 600,\n",
       "  'operating_system': 'iOS',\n",
       "  'storage': '64GB'},\n",
       " {'_id': ObjectId('666b440a390773dfeb122b0b'),\n",
       "  'category': 'Smart Watch',\n",
       "  'model': 'Apple Watch Series 6',\n",
       "  'producer': 'Apple',\n",
       "  'price': 400,\n",
       "  'operating_system': 'watchOS',\n",
       "  'features': ['Heart Rate Monitor', 'GPS']},\n",
       " {'_id': ObjectId('666b440a390773dfeb122b10'),\n",
       "  'category': 'Laptop',\n",
       "  'model': 'MacBook Pro',\n",
       "  'producer': 'Apple',\n",
       "  'price': 2000,\n",
       "  'processor': 'M1',\n",
       "  'ram': '16GB',\n",
       "  'storage': '1TB'},\n",
       " {'_id': ObjectId('666b440a390773dfeb122b12'),\n",
       "  'category': 'Laptop',\n",
       "  'model': 'Surface Laptop 4',\n",
       "  'producer': 'Microsoft',\n",
       "  'price': 1700,\n",
       "  'processor': 'AMD Ryzen 7',\n",
       "  'ram': '16GB',\n",
       "  'storage': '512GB'},\n",
       " {'_id': ObjectId('666b440a390773dfeb122b14'),\n",
       "  'category': 'Tablet',\n",
       "  'model': 'iPad Pro',\n",
       "  'producer': 'Apple',\n",
       "  'price': 1100,\n",
       "  'screen_size': '12.9 inches',\n",
       "  'storage': '256GB'},\n",
       " {'_id': ObjectId('666b440a390773dfeb122b16'),\n",
       "  'category': 'Tablet',\n",
       "  'model': 'Surface Pro 7',\n",
       "  'producer': 'Microsoft',\n",
       "  'price': 900,\n",
       "  'screen_size': '12.3 inches',\n",
       "  'storage': '128GB'}]"
      ]
     },
     "execution_count": 11,
     "metadata": {},
     "output_type": "execute_result"
    }
   ],
   "source": [
    "cond = {\n",
    "    'producer': {'$in': ['Apple', 'Microsoft']}\n",
    "}\n",
    "\n",
    "result = items.find(cond)\n",
    "\n",
    "list(result)"
   ]
  },
  {
   "cell_type": "markdown",
   "id": "11aba99d",
   "metadata": {},
   "source": [
    "#### 1.7 Оновіть певні товари, змінивши існуючі значення і додайте нові властивості (характеристики) усім товарам за певним критерієм"
   ]
  },
  {
   "cell_type": "markdown",
   "id": "7732e1a5",
   "metadata": {},
   "source": [
    "До оновлення:"
   ]
  },
  {
   "cell_type": "markdown",
   "id": "749669e4",
   "metadata": {},
   "source": [
    "- update_one"
   ]
  },
  {
   "cell_type": "code",
   "execution_count": 12,
   "id": "35cd8897",
   "metadata": {},
   "outputs": [
    {
     "data": {
      "text/plain": [
       "[{'_id': ObjectId('666b440a390773dfeb122b10'),\n",
       "  'category': 'Laptop',\n",
       "  'model': 'MacBook Pro',\n",
       "  'producer': 'Apple',\n",
       "  'price': 2000,\n",
       "  'processor': 'M1',\n",
       "  'ram': '16GB',\n",
       "  'storage': '1TB'}]"
      ]
     },
     "execution_count": 12,
     "metadata": {},
     "output_type": "execute_result"
    }
   ],
   "source": [
    "list(items.find({'model': 'MacBook Pro'}))"
   ]
  },
  {
   "cell_type": "markdown",
   "id": "cef358cc",
   "metadata": {},
   "source": [
    "- update_many"
   ]
  },
  {
   "cell_type": "markdown",
   "id": "a81248cc",
   "metadata": {},
   "source": [
    "(список із завдання вище)"
   ]
  },
  {
   "cell_type": "code",
   "execution_count": 13,
   "id": "24c82c0845df0b12",
   "metadata": {
    "ExecuteTime": {
     "end_time": "2024-05-06T23:44:12.749975900Z",
     "start_time": "2024-05-06T23:44:12.494955900Z"
    }
   },
   "outputs": [
    {
     "data": {
      "text/plain": [
       "UpdateResult({'n': 6, 'nModified': 6, 'ok': 1.0, 'updatedExisting': True}, acknowledged=True)"
      ]
     },
     "execution_count": 13,
     "metadata": {},
     "output_type": "execute_result"
    }
   ],
   "source": [
    "items.update_one({'model': 'MacBook Pro'}, {'$set': {'processor': 'M2'}})\n",
    "\n",
    "items.update_many({'producer': {'$in': ['Apple', 'Microsoft']}}, {'$set': {'warranty': '1y'}})"
   ]
  },
  {
   "cell_type": "markdown",
   "id": "ce294f98",
   "metadata": {},
   "source": [
    "Після оновлення:"
   ]
  },
  {
   "cell_type": "markdown",
   "id": "c20785d5",
   "metadata": {},
   "source": [
    "- update_one"
   ]
  },
  {
   "cell_type": "code",
   "execution_count": 14,
   "id": "3a7fb920",
   "metadata": {},
   "outputs": [
    {
     "data": {
      "text/plain": [
       "[{'_id': ObjectId('666b440a390773dfeb122b10'),\n",
       "  'category': 'Laptop',\n",
       "  'model': 'MacBook Pro',\n",
       "  'producer': 'Apple',\n",
       "  'price': 2000,\n",
       "  'processor': 'M2',\n",
       "  'ram': '16GB',\n",
       "  'storage': '1TB',\n",
       "  'warranty': '1y'}]"
      ]
     },
     "execution_count": 14,
     "metadata": {},
     "output_type": "execute_result"
    }
   ],
   "source": [
    "list(items.find({'model': 'MacBook Pro'}))"
   ]
  },
  {
   "cell_type": "markdown",
   "id": "17abd3aa",
   "metadata": {},
   "source": [
    "- update_many"
   ]
  },
  {
   "cell_type": "code",
   "execution_count": 15,
   "id": "0228153b",
   "metadata": {},
   "outputs": [
    {
     "data": {
      "text/plain": [
       "[{'_id': ObjectId('666b440a390773dfeb122b05'),\n",
       "  'category': 'Phone',\n",
       "  'model': 'iPhone 6',\n",
       "  'producer': 'Apple',\n",
       "  'price': 600,\n",
       "  'operating_system': 'iOS',\n",
       "  'storage': '64GB',\n",
       "  'warranty': '1y'},\n",
       " {'_id': ObjectId('666b440a390773dfeb122b0b'),\n",
       "  'category': 'Smart Watch',\n",
       "  'model': 'Apple Watch Series 6',\n",
       "  'producer': 'Apple',\n",
       "  'price': 400,\n",
       "  'operating_system': 'watchOS',\n",
       "  'features': ['Heart Rate Monitor', 'GPS'],\n",
       "  'warranty': '1y'},\n",
       " {'_id': ObjectId('666b440a390773dfeb122b10'),\n",
       "  'category': 'Laptop',\n",
       "  'model': 'MacBook Pro',\n",
       "  'producer': 'Apple',\n",
       "  'price': 2000,\n",
       "  'processor': 'M2',\n",
       "  'ram': '16GB',\n",
       "  'storage': '1TB',\n",
       "  'warranty': '1y'},\n",
       " {'_id': ObjectId('666b440a390773dfeb122b12'),\n",
       "  'category': 'Laptop',\n",
       "  'model': 'Surface Laptop 4',\n",
       "  'producer': 'Microsoft',\n",
       "  'price': 1700,\n",
       "  'processor': 'AMD Ryzen 7',\n",
       "  'ram': '16GB',\n",
       "  'storage': '512GB',\n",
       "  'warranty': '1y'},\n",
       " {'_id': ObjectId('666b440a390773dfeb122b14'),\n",
       "  'category': 'Tablet',\n",
       "  'model': 'iPad Pro',\n",
       "  'producer': 'Apple',\n",
       "  'price': 1100,\n",
       "  'screen_size': '12.9 inches',\n",
       "  'storage': '256GB',\n",
       "  'warranty': '1y'},\n",
       " {'_id': ObjectId('666b440a390773dfeb122b16'),\n",
       "  'category': 'Tablet',\n",
       "  'model': 'Surface Pro 7',\n",
       "  'producer': 'Microsoft',\n",
       "  'price': 900,\n",
       "  'screen_size': '12.3 inches',\n",
       "  'storage': '128GB',\n",
       "  'warranty': '1y'}]"
      ]
     },
     "execution_count": 15,
     "metadata": {},
     "output_type": "execute_result"
    }
   ],
   "source": [
    "list(items.find({'producer': {'$in': ['Apple', 'Microsoft']}}))"
   ]
  },
  {
   "cell_type": "markdown",
   "id": "16db6a93",
   "metadata": {},
   "source": [
    "#### 1.8 Знайдіть товари у яких є (присутнє поле) певні властивості"
   ]
  },
  {
   "cell_type": "code",
   "execution_count": 16,
   "id": "52ac2046c53e2ef2",
   "metadata": {
    "ExecuteTime": {
     "end_time": "2024-05-06T23:44:12.810073400Z",
     "start_time": "2024-05-06T23:44:12.749975900Z"
    }
   },
   "outputs": [
    {
     "data": {
      "text/plain": [
       "[{'_id': ObjectId('666b440a390773dfeb122b05'),\n",
       "  'category': 'Phone',\n",
       "  'model': 'iPhone 6',\n",
       "  'producer': 'Apple',\n",
       "  'price': 600,\n",
       "  'operating_system': 'iOS',\n",
       "  'storage': '64GB',\n",
       "  'warranty': '1y'},\n",
       " {'_id': ObjectId('666b440a390773dfeb122b0b'),\n",
       "  'category': 'Smart Watch',\n",
       "  'model': 'Apple Watch Series 6',\n",
       "  'producer': 'Apple',\n",
       "  'price': 400,\n",
       "  'operating_system': 'watchOS',\n",
       "  'features': ['Heart Rate Monitor', 'GPS'],\n",
       "  'warranty': '1y'},\n",
       " {'_id': ObjectId('666b440a390773dfeb122b10'),\n",
       "  'category': 'Laptop',\n",
       "  'model': 'MacBook Pro',\n",
       "  'producer': 'Apple',\n",
       "  'price': 2000,\n",
       "  'processor': 'M2',\n",
       "  'ram': '16GB',\n",
       "  'storage': '1TB',\n",
       "  'warranty': '1y'},\n",
       " {'_id': ObjectId('666b440a390773dfeb122b12'),\n",
       "  'category': 'Laptop',\n",
       "  'model': 'Surface Laptop 4',\n",
       "  'producer': 'Microsoft',\n",
       "  'price': 1700,\n",
       "  'processor': 'AMD Ryzen 7',\n",
       "  'ram': '16GB',\n",
       "  'storage': '512GB',\n",
       "  'warranty': '1y'},\n",
       " {'_id': ObjectId('666b440a390773dfeb122b14'),\n",
       "  'category': 'Tablet',\n",
       "  'model': 'iPad Pro',\n",
       "  'producer': 'Apple',\n",
       "  'price': 1100,\n",
       "  'screen_size': '12.9 inches',\n",
       "  'storage': '256GB',\n",
       "  'warranty': '1y'},\n",
       " {'_id': ObjectId('666b440a390773dfeb122b16'),\n",
       "  'category': 'Tablet',\n",
       "  'model': 'Surface Pro 7',\n",
       "  'producer': 'Microsoft',\n",
       "  'price': 900,\n",
       "  'screen_size': '12.3 inches',\n",
       "  'storage': '128GB',\n",
       "  'warranty': '1y'}]"
      ]
     },
     "execution_count": 16,
     "metadata": {},
     "output_type": "execute_result"
    }
   ],
   "source": [
    "cond = {\n",
    "    'warranty': {'$exists': True}\n",
    "}\n",
    "\n",
    "result = items.find(cond)\n",
    "\n",
    "list(result)"
   ]
  },
  {
   "cell_type": "markdown",
   "id": "a97ff67f",
   "metadata": {},
   "source": [
    "#### 1.9 Для знайдених товарів збільшіть їх вартість на певну суму"
   ]
  },
  {
   "cell_type": "code",
   "execution_count": 17,
   "id": "5b1239660e5c0395",
   "metadata": {
    "ExecuteTime": {
     "end_time": "2024-05-06T23:44:12.879634900Z",
     "start_time": "2024-05-06T23:44:12.810073400Z"
    }
   },
   "outputs": [
    {
     "data": {
      "text/plain": [
       "UpdateResult({'n': 6, 'nModified': 6, 'ok': 1.0, 'updatedExisting': True}, acknowledged=True)"
      ]
     },
     "execution_count": 17,
     "metadata": {},
     "output_type": "execute_result"
    }
   ],
   "source": [
    "update = {\n",
    "    '$inc': {'price': 100}\n",
    "}\n",
    "\n",
    "items.update_many(cond, update)"
   ]
  },
  {
   "cell_type": "code",
   "execution_count": 18,
   "id": "39385c6d",
   "metadata": {},
   "outputs": [
    {
     "data": {
      "text/plain": [
       "[{'_id': ObjectId('666b440a390773dfeb122b05'),\n",
       "  'category': 'Phone',\n",
       "  'model': 'iPhone 6',\n",
       "  'producer': 'Apple',\n",
       "  'price': 700,\n",
       "  'operating_system': 'iOS',\n",
       "  'storage': '64GB',\n",
       "  'warranty': '1y'},\n",
       " {'_id': ObjectId('666b440a390773dfeb122b0b'),\n",
       "  'category': 'Smart Watch',\n",
       "  'model': 'Apple Watch Series 6',\n",
       "  'producer': 'Apple',\n",
       "  'price': 500,\n",
       "  'operating_system': 'watchOS',\n",
       "  'features': ['Heart Rate Monitor', 'GPS'],\n",
       "  'warranty': '1y'},\n",
       " {'_id': ObjectId('666b440a390773dfeb122b10'),\n",
       "  'category': 'Laptop',\n",
       "  'model': 'MacBook Pro',\n",
       "  'producer': 'Apple',\n",
       "  'price': 2100,\n",
       "  'processor': 'M2',\n",
       "  'ram': '16GB',\n",
       "  'storage': '1TB',\n",
       "  'warranty': '1y'},\n",
       " {'_id': ObjectId('666b440a390773dfeb122b12'),\n",
       "  'category': 'Laptop',\n",
       "  'model': 'Surface Laptop 4',\n",
       "  'producer': 'Microsoft',\n",
       "  'price': 1800,\n",
       "  'processor': 'AMD Ryzen 7',\n",
       "  'ram': '16GB',\n",
       "  'storage': '512GB',\n",
       "  'warranty': '1y'},\n",
       " {'_id': ObjectId('666b440a390773dfeb122b14'),\n",
       "  'category': 'Tablet',\n",
       "  'model': 'iPad Pro',\n",
       "  'producer': 'Apple',\n",
       "  'price': 1200,\n",
       "  'screen_size': '12.9 inches',\n",
       "  'storage': '256GB',\n",
       "  'warranty': '1y'},\n",
       " {'_id': ObjectId('666b440a390773dfeb122b16'),\n",
       "  'category': 'Tablet',\n",
       "  'model': 'Surface Pro 7',\n",
       "  'producer': 'Microsoft',\n",
       "  'price': 1000,\n",
       "  'screen_size': '12.3 inches',\n",
       "  'storage': '128GB',\n",
       "  'warranty': '1y'}]"
      ]
     },
     "execution_count": 18,
     "metadata": {},
     "output_type": "execute_result"
    }
   ],
   "source": [
    "list(items.find({'warranty': {'$exists': True}}))"
   ]
  },
  {
   "cell_type": "markdown",
   "id": "356417ea",
   "metadata": {},
   "source": [
    "-------------------------------------------------------------------------------"
   ]
  },
  {
   "cell_type": "code",
   "execution_count": 19,
   "id": "9551eadf312a9057",
   "metadata": {
    "ExecuteTime": {
     "end_time": "2024-05-06T23:44:13.136419600Z",
     "start_time": "2024-05-06T23:44:12.879634900Z"
    }
   },
   "outputs": [],
   "source": [
    "orders = mydb['orders']"
   ]
  },
  {
   "cell_type": "markdown",
   "id": "1e36793c",
   "metadata": {},
   "source": [
    "### 2.\n",
    "\n",
    "Товари ви додаєте в замовлення - orders, яке містити вартість, ім'я замовника, і адресу доставки.\n",
    "\n",
    "Товари (items) в замовленні (order) повинні бути представлені у вигляді [references](https://www.mongodb.com/docs/manual/data-modeling/#link-related-data), а замовник (customer) у вигляді [embed](https://www.mongodb.com/docs/manual/data-modeling/#link-related-data)\n",
    "\n",
    "Приклад моделювання: https://docs.mongodb.com/manual/tutorial/model-referenced-one-to-many-relationships-between-documents/ \n",
    "\n",
    "{    \n",
    "\n",
    "\t\"order_number\" : 201513,\n",
    "    \n",
    "\t\"date\" : ISODate(\"2015-04-14\"),\n",
    "    \n",
    "\t\"total_sum\" : 1923.4,\n",
    "    \n",
    "\t\"customer\" : {\n",
    "    \n",
    "    \t\"name\" : \"Andrii\",\n",
    "        \n",
    "    \t\"surname\" : \"Rodinov\",\n",
    "        \n",
    "    \t\"phones\" : [ 9876543, 1234567],\n",
    "        \n",
    "    \t\"address\" : \"PTI, Peremohy 37, Kyiv, UA\"\n",
    "        \n",
    "\t},\n",
    "    \n",
    "\t\"payment\" : {\n",
    "    \n",
    "    \t\"card_owner\" : \"Andrii Rodionov\",\n",
    "        \n",
    "    \t\"cardId\" : 12345678\n",
    "        \n",
    "\t},\n",
    "    \n",
    "\t\"items_id\" : [\"552bc0f7bbcdf26a32e99954\", \"552bc285bbcdf26a32e99957\"]\n",
    "    \n",
    "}\n"
   ]
  },
  {
   "cell_type": "markdown",
   "id": "c5ef3190",
   "metadata": {},
   "source": [
    "Створення колекції під замовлення (orders):"
   ]
  },
  {
   "cell_type": "code",
   "execution_count": 20,
   "id": "c1e66532",
   "metadata": {},
   "outputs": [
    {
     "data": {
      "text/plain": [
       "Collection(Database(MongoClient(host=['localhost:27017'], document_class=dict, tz_aware=False, connect=True), 'lab4'), 'orders')"
      ]
     },
     "execution_count": 20,
     "metadata": {},
     "output_type": "execute_result"
    }
   ],
   "source": [
    "mydb.create_collection('orders')"
   ]
  },
  {
   "cell_type": "markdown",
   "id": "406ac336",
   "metadata": {},
   "source": [
    "#### 2.1 Створіть кілька замовлень з різними наборами товарів, але так щоб один з товарів був у декількох замовленнях"
   ]
  },
  {
   "cell_type": "code",
   "execution_count": 22,
   "id": "1d3f02b5",
   "metadata": {},
   "outputs": [],
   "source": [
    "def get_random_items(count):\n",
    "    return random.sample(range(20), count)\n",
    "\n",
    "def get_random_phones(count):\n",
    "    return [random.randint(1000000000, 9999999999) for _ in range(count)]\n",
    "\n",
    "def get_item_price(item_id):\n",
    "    result = items.find_one({'_id': ObjectId(item_id)})\n",
    "    price = result.get('price')\n",
    "    return price"
   ]
  },
  {
   "cell_type": "code",
   "execution_count": 23,
   "id": "6109fdfd",
   "metadata": {},
   "outputs": [],
   "source": [
    "no_of_orders = 7"
   ]
  },
  {
   "cell_type": "code",
   "execution_count": 24,
   "id": "bab54ee6",
   "metadata": {},
   "outputs": [],
   "source": [
    "random_items = [items_ids[get_random_items(random.randint(2, 5))] for _ in range(no_of_orders)]"
   ]
  },
  {
   "cell_type": "code",
   "execution_count": 25,
   "id": "d10e600c",
   "metadata": {},
   "outputs": [],
   "source": [
    "random_items_prices = list(map(lambda x: sum([get_item_price(el) for el in x]), random_items))"
   ]
  },
  {
   "cell_type": "code",
   "execution_count": 26,
   "id": "020b9c0e",
   "metadata": {},
   "outputs": [
    {
     "data": {
      "text/plain": [
       "InsertManyResult([ObjectId('666b4618390773dfeb122b19'), ObjectId('666b4618390773dfeb122b1a'), ObjectId('666b4618390773dfeb122b1b'), ObjectId('666b4618390773dfeb122b1c'), ObjectId('666b4618390773dfeb122b1d'), ObjectId('666b4618390773dfeb122b1e'), ObjectId('666b4618390773dfeb122b1f')], acknowledged=True)"
      ]
     },
     "execution_count": 26,
     "metadata": {},
     "output_type": "execute_result"
    }
   ],
   "source": [
    "some_orders = [\n",
    "    {\n",
    "        'order_number': 1001,\n",
    "        'date': datetime(2021, 3, 17),\n",
    "        'total_sum': random_items_prices[0],\n",
    "        'customer': {\n",
    "            'name': 'Michael',\n",
    "            'surname': 'Smith',\n",
    "            'phones': get_random_phones(2),\n",
    "            'address': 'Main Street 12, Lviv, UA'\n",
    "        },\n",
    "        'payment': {\n",
    "            'card_owner': 'Michael Smith',\n",
    "            'cardId': random.randint(4000000000, 4999999999)\n",
    "        },\n",
    "        'items_id': list(random_items[0])\n",
    "    },\n",
    "    {\n",
    "        'order_number': 1002,\n",
    "        'date': datetime(2021, 4, 15),\n",
    "        'total_sum': random_items_prices[1],\n",
    "        'customer': {\n",
    "            'name': 'Emily',\n",
    "            'surname': 'Johnson',\n",
    "            'phones': get_random_phones(1),\n",
    "            'address': 'Second Avenue 34, Dnipro, UA'\n",
    "        },\n",
    "        'payment': {\n",
    "            'card_owner': 'Emily Johnson',\n",
    "            'cardId': random.randint(4000000000, 4999999999)\n",
    "        },\n",
    "        'items_id': list(random_items[1])\n",
    "    },\n",
    "    {\n",
    "        'order_number': 1003,\n",
    "        'date': datetime(2021, 5, 16),\n",
    "        'total_sum': random_items_prices[2],\n",
    "        'customer': {\n",
    "            'name': 'Daniel',\n",
    "            'surname': 'Williams',\n",
    "            'phones': get_random_phones(2),\n",
    "            'address': 'Third Boulevard 56, Odesa, UA'\n",
    "        },\n",
    "        'payment': {\n",
    "            'card_owner': 'Daniel Williams',\n",
    "            'cardId': random.randint(4000000000, 4999999999)\n",
    "        },\n",
    "        'items_id': list(random_items[2])\n",
    "    },\n",
    "    {\n",
    "        'order_number': 1004,\n",
    "        'date': datetime(2021, 6, 18),\n",
    "        'total_sum': random_items_prices[3],\n",
    "        'customer': {\n",
    "            'name': 'Sophia',\n",
    "            'surname': 'Brown',\n",
    "            'phones': get_random_phones(1),\n",
    "            'address': 'Fourth Street 78, Kyiv, UA'\n",
    "        },\n",
    "        'payment': {\n",
    "            'card_owner': 'Sophia Brown',\n",
    "            'cardId': random.randint(4000000000, 4999999999)\n",
    "        },\n",
    "        'items_id': list(random_items[3])\n",
    "    },\n",
    "    {\n",
    "        'order_number': 1005,\n",
    "        'date': datetime(2021, 7, 19),\n",
    "        'total_sum': random_items_prices[4],\n",
    "        'customer': {\n",
    "            'name': 'James',\n",
    "            'surname': 'Jones',\n",
    "            'phones': get_random_phones(2),\n",
    "            'address': 'Fifth Avenue 90, Zaporizhzhia, UA'\n",
    "        },\n",
    "        'payment': {\n",
    "            'card_owner': 'James Jones',\n",
    "            'cardId': random.randint(4000000000, 4999999999)\n",
    "        },\n",
    "        'items_id': list(random_items[4])\n",
    "    },\n",
    "    {\n",
    "        'order_number': 1006,\n",
    "        'date': datetime(2021, 8, 4),\n",
    "        'total_sum': random_items_prices[5],\n",
    "        'customer': {\n",
    "            'name': 'Isabella',\n",
    "            'surname': 'Garcia',\n",
    "            'phones': get_random_phones(1),\n",
    "            'address': 'Sixth Street 123, Kharkiv, UA'\n",
    "        },\n",
    "        'payment': {\n",
    "            'card_owner': 'Isabella Garcia',\n",
    "            'cardId': random.randint(4000000000, 4999999999)\n",
    "        },\n",
    "        'items_id': list(random_items[5])\n",
    "    },\n",
    "    {\n",
    "        'order_number': 1007,\n",
    "        'date': datetime(2021, 9, 21),\n",
    "        'total_sum': random_items_prices[6],\n",
    "        'customer': {\n",
    "            'name': 'Charlotte',\n",
    "            'surname': 'Miller',\n",
    "            'phones': get_random_phones(1),\n",
    "            'address': 'Seventh Road 456, Kharkiv, UA'\n",
    "        },\n",
    "        'payment': {\n",
    "            'card_owner': 'Charlotte Miller',\n",
    "            'cardId': random.randint(4000000000, 4999999999)\n",
    "        },\n",
    "        'items_id': list(random_items[6])\n",
    "    }\n",
    "]\n",
    "\n",
    "orders.insert_many(some_orders)"
   ]
  },
  {
   "cell_type": "markdown",
   "id": "49b2aede",
   "metadata": {},
   "source": [
    "#### 2.2 Виведіть всі замовлення"
   ]
  },
  {
   "cell_type": "code",
   "execution_count": 27,
   "id": "67e4ffb78e7e1632",
   "metadata": {
    "ExecuteTime": {
     "end_time": "2024-05-06T23:44:13.457531800Z",
     "start_time": "2024-05-06T23:44:13.400535500Z"
    }
   },
   "outputs": [
    {
     "data": {
      "text/plain": [
       "[{'_id': ObjectId('666b4618390773dfeb122b19'),\n",
       "  'order_number': 1001,\n",
       "  'date': datetime.datetime(2021, 3, 17, 0, 0),\n",
       "  'total_sum': 4000,\n",
       "  'customer': {'name': 'Michael',\n",
       "   'surname': 'Smith',\n",
       "   'phones': [3147353095, 9528909627],\n",
       "   'address': 'Main Street 12, Lviv, UA'},\n",
       "  'payment': {'card_owner': 'Michael Smith', 'cardId': 4751727291},\n",
       "  'items_id': ['666b440a390773dfeb122b13',\n",
       "   '666b440a390773dfeb122b14',\n",
       "   '666b440a390773dfeb122b09']},\n",
       " {'_id': ObjectId('666b4618390773dfeb122b1a'),\n",
       "  'order_number': 1002,\n",
       "  'date': datetime.datetime(2021, 4, 15, 0, 0),\n",
       "  'total_sum': 1550,\n",
       "  'customer': {'name': 'Emily',\n",
       "   'surname': 'Johnson',\n",
       "   'phones': [8860698173],\n",
       "   'address': 'Second Avenue 34, Dnipro, UA'},\n",
       "  'payment': {'card_owner': 'Emily Johnson', 'cardId': 4328325044},\n",
       "  'items_id': ['666b440a390773dfeb122b06', '666b440a390773dfeb122b08']},\n",
       " {'_id': ObjectId('666b4618390773dfeb122b1b'),\n",
       "  'order_number': 1003,\n",
       "  'date': datetime.datetime(2021, 5, 16, 0, 0),\n",
       "  'total_sum': 4030,\n",
       "  'customer': {'name': 'Daniel',\n",
       "   'surname': 'Williams',\n",
       "   'phones': [2166047892, 6979180745],\n",
       "   'address': 'Third Boulevard 56, Odesa, UA'},\n",
       "  'payment': {'card_owner': 'Daniel Williams', 'cardId': 4944007283},\n",
       "  'items_id': ['666b440a390773dfeb122b11',\n",
       "   '666b440a390773dfeb122b0c',\n",
       "   '666b440a390773dfeb122b13',\n",
       "   '666b440a390773dfeb122b0f']},\n",
       " {'_id': ObjectId('666b4618390773dfeb122b1c'),\n",
       "  'order_number': 1004,\n",
       "  'date': datetime.datetime(2021, 6, 18, 0, 0),\n",
       "  'total_sum': 2500,\n",
       "  'customer': {'name': 'Sophia',\n",
       "   'surname': 'Brown',\n",
       "   'phones': [4907882364],\n",
       "   'address': 'Fourth Street 78, Kyiv, UA'},\n",
       "  'payment': {'card_owner': 'Sophia Brown', 'cardId': 4744306892},\n",
       "  'items_id': ['666b440a390773dfeb122b07', '666b440a390773dfeb122b11']},\n",
       " {'_id': ObjectId('666b4618390773dfeb122b1d'),\n",
       "  'order_number': 1005,\n",
       "  'date': datetime.datetime(2021, 7, 19, 0, 0),\n",
       "  'total_sum': 6200,\n",
       "  'customer': {'name': 'James',\n",
       "   'surname': 'Jones',\n",
       "   'phones': [1818407023, 2537146795],\n",
       "   'address': 'Fifth Avenue 90, Zaporizhzhia, UA'},\n",
       "  'payment': {'card_owner': 'James Jones', 'cardId': 4072261201},\n",
       "  'items_id': ['666b440a390773dfeb122b16',\n",
       "   '666b440a390773dfeb122b18',\n",
       "   '666b440a390773dfeb122b10',\n",
       "   '666b440a390773dfeb122b06',\n",
       "   '666b440a390773dfeb122b12']},\n",
       " {'_id': ObjectId('666b4618390773dfeb122b1e'),\n",
       "  'order_number': 1006,\n",
       "  'date': datetime.datetime(2021, 8, 4, 0, 0),\n",
       "  'total_sum': 3980,\n",
       "  'customer': {'name': 'Isabella',\n",
       "   'surname': 'Garcia',\n",
       "   'phones': [1461539365],\n",
       "   'address': 'Sixth Street 123, Kharkiv, UA'},\n",
       "  'payment': {'card_owner': 'Isabella Garcia', 'cardId': 4414045110},\n",
       "  'items_id': ['666b440a390773dfeb122b0f',\n",
       "   '666b440a390773dfeb122b10',\n",
       "   '666b440a390773dfeb122b13']},\n",
       " {'_id': ObjectId('666b4618390773dfeb122b1f'),\n",
       "  'order_number': 1007,\n",
       "  'date': datetime.datetime(2021, 9, 21, 0, 0),\n",
       "  'total_sum': 4350,\n",
       "  'customer': {'name': 'Charlotte',\n",
       "   'surname': 'Miller',\n",
       "   'phones': [8724487504],\n",
       "   'address': 'Seventh Road 456, Kharkiv, UA'},\n",
       "  'payment': {'card_owner': 'Charlotte Miller', 'cardId': 4278186099},\n",
       "  'items_id': ['666b440a390773dfeb122b0e',\n",
       "   '666b440a390773dfeb122b07',\n",
       "   '666b440a390773dfeb122b06',\n",
       "   '666b440a390773dfeb122b05',\n",
       "   '666b440a390773dfeb122b0a']}]"
      ]
     },
     "execution_count": 27,
     "metadata": {},
     "output_type": "execute_result"
    }
   ],
   "source": [
    "list(orders.find())"
   ]
  },
  {
   "cell_type": "markdown",
   "id": "3c20e035",
   "metadata": {},
   "source": [
    "#### 2.3 Виведіть замовлення з вартістю більше певного значення"
   ]
  },
  {
   "cell_type": "code",
   "execution_count": 28,
   "id": "45501a3f3b810d36",
   "metadata": {
    "ExecuteTime": {
     "end_time": "2024-05-06T23:44:13.517855900Z",
     "start_time": "2024-05-06T23:44:13.457531800Z"
    }
   },
   "outputs": [
    {
     "data": {
      "text/plain": [
       "[{'_id': ObjectId('666b4618390773dfeb122b19'),\n",
       "  'order_number': 1001,\n",
       "  'date': datetime.datetime(2021, 3, 17, 0, 0),\n",
       "  'total_sum': 4000,\n",
       "  'customer': {'name': 'Michael',\n",
       "   'surname': 'Smith',\n",
       "   'phones': [3147353095, 9528909627],\n",
       "   'address': 'Main Street 12, Lviv, UA'},\n",
       "  'payment': {'card_owner': 'Michael Smith', 'cardId': 4751727291},\n",
       "  'items_id': ['666b440a390773dfeb122b13',\n",
       "   '666b440a390773dfeb122b14',\n",
       "   '666b440a390773dfeb122b09']},\n",
       " {'_id': ObjectId('666b4618390773dfeb122b1b'),\n",
       "  'order_number': 1003,\n",
       "  'date': datetime.datetime(2021, 5, 16, 0, 0),\n",
       "  'total_sum': 4030,\n",
       "  'customer': {'name': 'Daniel',\n",
       "   'surname': 'Williams',\n",
       "   'phones': [2166047892, 6979180745],\n",
       "   'address': 'Third Boulevard 56, Odesa, UA'},\n",
       "  'payment': {'card_owner': 'Daniel Williams', 'cardId': 4944007283},\n",
       "  'items_id': ['666b440a390773dfeb122b11',\n",
       "   '666b440a390773dfeb122b0c',\n",
       "   '666b440a390773dfeb122b13',\n",
       "   '666b440a390773dfeb122b0f']},\n",
       " {'_id': ObjectId('666b4618390773dfeb122b1d'),\n",
       "  'order_number': 1005,\n",
       "  'date': datetime.datetime(2021, 7, 19, 0, 0),\n",
       "  'total_sum': 6200,\n",
       "  'customer': {'name': 'James',\n",
       "   'surname': 'Jones',\n",
       "   'phones': [1818407023, 2537146795],\n",
       "   'address': 'Fifth Avenue 90, Zaporizhzhia, UA'},\n",
       "  'payment': {'card_owner': 'James Jones', 'cardId': 4072261201},\n",
       "  'items_id': ['666b440a390773dfeb122b16',\n",
       "   '666b440a390773dfeb122b18',\n",
       "   '666b440a390773dfeb122b10',\n",
       "   '666b440a390773dfeb122b06',\n",
       "   '666b440a390773dfeb122b12']},\n",
       " {'_id': ObjectId('666b4618390773dfeb122b1e'),\n",
       "  'order_number': 1006,\n",
       "  'date': datetime.datetime(2021, 8, 4, 0, 0),\n",
       "  'total_sum': 3980,\n",
       "  'customer': {'name': 'Isabella',\n",
       "   'surname': 'Garcia',\n",
       "   'phones': [1461539365],\n",
       "   'address': 'Sixth Street 123, Kharkiv, UA'},\n",
       "  'payment': {'card_owner': 'Isabella Garcia', 'cardId': 4414045110},\n",
       "  'items_id': ['666b440a390773dfeb122b0f',\n",
       "   '666b440a390773dfeb122b10',\n",
       "   '666b440a390773dfeb122b13']},\n",
       " {'_id': ObjectId('666b4618390773dfeb122b1f'),\n",
       "  'order_number': 1007,\n",
       "  'date': datetime.datetime(2021, 9, 21, 0, 0),\n",
       "  'total_sum': 4350,\n",
       "  'customer': {'name': 'Charlotte',\n",
       "   'surname': 'Miller',\n",
       "   'phones': [8724487504],\n",
       "   'address': 'Seventh Road 456, Kharkiv, UA'},\n",
       "  'payment': {'card_owner': 'Charlotte Miller', 'cardId': 4278186099},\n",
       "  'items_id': ['666b440a390773dfeb122b0e',\n",
       "   '666b440a390773dfeb122b07',\n",
       "   '666b440a390773dfeb122b06',\n",
       "   '666b440a390773dfeb122b05',\n",
       "   '666b440a390773dfeb122b0a']}]"
      ]
     },
     "execution_count": 28,
     "metadata": {},
     "output_type": "execute_result"
    }
   ],
   "source": [
    "cond = {\n",
    "    'total_sum': {'$gt': 2999}\n",
    "}\n",
    "\n",
    "result = orders.find(cond)\n",
    "\n",
    "list(result)"
   ]
  },
  {
   "cell_type": "markdown",
   "id": "50fadd75",
   "metadata": {},
   "source": [
    "#### 2.4 Знайдіть замовлення зроблені одним замовником"
   ]
  },
  {
   "cell_type": "code",
   "execution_count": 29,
   "id": "bd26007f7b4799e3",
   "metadata": {
    "ExecuteTime": {
     "end_time": "2024-05-06T23:44:13.593983700Z",
     "start_time": "2024-05-06T23:44:13.517855900Z"
    }
   },
   "outputs": [
    {
     "data": {
      "text/plain": [
       "[{'_id': ObjectId('666b4618390773dfeb122b19'),\n",
       "  'order_number': 1001,\n",
       "  'date': datetime.datetime(2021, 3, 17, 0, 0),\n",
       "  'total_sum': 4000,\n",
       "  'customer': {'name': 'Michael',\n",
       "   'surname': 'Smith',\n",
       "   'phones': [3147353095, 9528909627],\n",
       "   'address': 'Main Street 12, Lviv, UA'},\n",
       "  'payment': {'card_owner': 'Michael Smith', 'cardId': 4751727291},\n",
       "  'items_id': ['666b440a390773dfeb122b13',\n",
       "   '666b440a390773dfeb122b14',\n",
       "   '666b440a390773dfeb122b09']}]"
      ]
     },
     "execution_count": 29,
     "metadata": {},
     "output_type": "execute_result"
    }
   ],
   "source": [
    "cond = {\n",
    "    'customer.name': 'Michael',\n",
    "    'customer.surname': 'Smith'\n",
    "}\n",
    "\n",
    "result = orders.find(cond)\n",
    "\n",
    "list(result)"
   ]
  },
  {
   "cell_type": "markdown",
   "id": "1b0ba3ef",
   "metadata": {},
   "source": [
    "#### 2.5 Знайдіть всі замовлення з певним товаром (товарами) (шукати можна по ObjectId)"
   ]
  },
  {
   "cell_type": "code",
   "execution_count": 30,
   "id": "25944cb3",
   "metadata": {},
   "outputs": [
    {
     "data": {
      "text/plain": [
       "['666b440a390773dfeb122b05',\n",
       " '666b440a390773dfeb122b06',\n",
       " '666b440a390773dfeb122b07',\n",
       " '666b440a390773dfeb122b08',\n",
       " '666b440a390773dfeb122b09',\n",
       " '666b440a390773dfeb122b0a',\n",
       " '666b440a390773dfeb122b0c',\n",
       " '666b440a390773dfeb122b0e',\n",
       " '666b440a390773dfeb122b0f',\n",
       " '666b440a390773dfeb122b10',\n",
       " '666b440a390773dfeb122b11',\n",
       " '666b440a390773dfeb122b12',\n",
       " '666b440a390773dfeb122b13',\n",
       " '666b440a390773dfeb122b14',\n",
       " '666b440a390773dfeb122b16',\n",
       " '666b440a390773dfeb122b18']"
      ]
     },
     "execution_count": 30,
     "metadata": {},
     "output_type": "execute_result"
    }
   ],
   "source": [
    "orders.distinct('items_id')"
   ]
  },
  {
   "cell_type": "markdown",
   "id": "a3230f33",
   "metadata": {},
   "source": [
    "id шуканого товару:"
   ]
  },
  {
   "cell_type": "code",
   "execution_count": 46,
   "id": "aa9320d1",
   "metadata": {},
   "outputs": [
    {
     "data": {
      "text/plain": [
       "'666b440a390773dfeb122b0f'"
      ]
     },
     "execution_count": 46,
     "metadata": {},
     "output_type": "execute_result"
    }
   ],
   "source": [
    "some_order = orders.distinct('items_id')[8]\n",
    "some_order"
   ]
  },
  {
   "cell_type": "code",
   "execution_count": 47,
   "id": "e11e7d20a895f965",
   "metadata": {
    "ExecuteTime": {
     "end_time": "2024-05-06T23:44:13.638023900Z",
     "start_time": "2024-05-06T23:44:13.578330700Z"
    },
    "scrolled": false
   },
   "outputs": [],
   "source": [
    "cond = {\n",
    "    'items_id': some_order\n",
    "}"
   ]
  },
  {
   "cell_type": "code",
   "execution_count": 48,
   "id": "c3f45420",
   "metadata": {},
   "outputs": [
    {
     "data": {
      "text/plain": [
       "[{'_id': ObjectId('666b4618390773dfeb122b1b'),\n",
       "  'order_number': 1003,\n",
       "  'date': datetime.datetime(2021, 5, 16, 0, 0),\n",
       "  'total_sum': 4030,\n",
       "  'customer': {'name': 'Daniel',\n",
       "   'surname': 'Williams',\n",
       "   'phones': [2166047892, 6979180745],\n",
       "   'address': 'Third Boulevard 56, Odesa, UA'},\n",
       "  'payment': {'card_owner': 'Daniel Williams', 'cardId': 4944007283},\n",
       "  'items_id': ['666b440a390773dfeb122b11',\n",
       "   '666b440a390773dfeb122b0c',\n",
       "   '666b440a390773dfeb122b13',\n",
       "   '666b440a390773dfeb122b0f']},\n",
       " {'_id': ObjectId('666b4618390773dfeb122b1e'),\n",
       "  'order_number': 1006,\n",
       "  'date': datetime.datetime(2021, 8, 4, 0, 0),\n",
       "  'total_sum': 3980,\n",
       "  'customer': {'name': 'Isabella',\n",
       "   'surname': 'Garcia',\n",
       "   'phones': [1461539365],\n",
       "   'address': 'Sixth Street 123, Kharkiv, UA'},\n",
       "  'payment': {'card_owner': 'Isabella Garcia', 'cardId': 4414045110},\n",
       "  'items_id': ['666b440a390773dfeb122b0f',\n",
       "   '666b440a390773dfeb122b10',\n",
       "   '666b440a390773dfeb122b13']}]"
      ]
     },
     "execution_count": 48,
     "metadata": {},
     "output_type": "execute_result"
    }
   ],
   "source": [
    "result = orders.find(cond)\n",
    "\n",
    "list(result)"
   ]
  },
  {
   "cell_type": "markdown",
   "id": "58468d22",
   "metadata": {},
   "source": [
    "#### 2.6 Додайте в усі замовлення з певним товаром ще один товар і збільште існуючу вартість замовлення на деяке значення Х"
   ]
  },
  {
   "cell_type": "code",
   "execution_count": 49,
   "id": "d75b7b6b",
   "metadata": {},
   "outputs": [
    {
     "name": "stdout",
     "output_type": "stream",
     "text": [
      "Товари, що присутні більш ніж в одному замовленні:\n",
      "\n",
      "ID товару: 666b440a390773dfeb122b06\n",
      "Індекс товару у списку orders.distinct('items_id'): 1\n",
      "\n",
      "ID товару: 666b440a390773dfeb122b07\n",
      "Індекс товару у списку orders.distinct('items_id'): 2\n",
      "\n",
      "ID товару: 666b440a390773dfeb122b0f\n",
      "Індекс товару у списку orders.distinct('items_id'): 8\n",
      "\n",
      "ID товару: 666b440a390773dfeb122b10\n",
      "Індекс товару у списку orders.distinct('items_id'): 9\n",
      "\n",
      "ID товару: 666b440a390773dfeb122b11\n",
      "Індекс товару у списку orders.distinct('items_id'): 10\n",
      "\n",
      "ID товару: 666b440a390773dfeb122b13\n",
      "Індекс товару у списку orders.distinct('items_id'): 12\n",
      "\n"
     ]
    }
   ],
   "source": [
    "print('Товари, що присутні більш ніж в одному замовленні:\\n')\n",
    "\n",
    "for item in orders.distinct('items_id'):\n",
    "    num = len(list(orders.find({'items_id': item})))\n",
    "    if num > 1:\n",
    "        print(f'ID товару: {item}')\n",
    "        print(f\"Індекс товару у списку orders.distinct('items_id'): {orders.distinct('items_id').index(item)}\\n\")"
   ]
  },
  {
   "cell_type": "code",
   "execution_count": 50,
   "id": "bc02668d",
   "metadata": {},
   "outputs": [],
   "source": [
    "repeated = orders.distinct('items_id')[8]"
   ]
  },
  {
   "cell_type": "code",
   "execution_count": 51,
   "id": "0fba7221",
   "metadata": {},
   "outputs": [
    {
     "data": {
      "text/plain": [
       "['666b440a390773dfeb122b05',\n",
       " '666b440a390773dfeb122b06',\n",
       " '666b440a390773dfeb122b07',\n",
       " '666b440a390773dfeb122b08',\n",
       " '666b440a390773dfeb122b09',\n",
       " '666b440a390773dfeb122b0a',\n",
       " '666b440a390773dfeb122b0c',\n",
       " '666b440a390773dfeb122b0e',\n",
       " '666b440a390773dfeb122b0f',\n",
       " '666b440a390773dfeb122b10',\n",
       " '666b440a390773dfeb122b11',\n",
       " '666b440a390773dfeb122b12',\n",
       " '666b440a390773dfeb122b13',\n",
       " '666b440a390773dfeb122b14',\n",
       " '666b440a390773dfeb122b16',\n",
       " '666b440a390773dfeb122b18']"
      ]
     },
     "execution_count": 51,
     "metadata": {},
     "output_type": "execute_result"
    }
   ],
   "source": [
    "orders.distinct('items_id')"
   ]
  },
  {
   "cell_type": "code",
   "execution_count": 52,
   "id": "1be78ef7",
   "metadata": {},
   "outputs": [
    {
     "name": "stdout",
     "output_type": "stream",
     "text": [
      "Товари, що не були придбані: \n",
      "\n",
      "ID предмета: 666b440a390773dfeb122b0b, його індекс в items_ids - 6\n",
      "ID предмета: 666b440a390773dfeb122b0d, його індекс в items_ids - 8\n",
      "ID предмета: 666b440a390773dfeb122b15, його індекс в items_ids - 16\n",
      "ID предмета: 666b440a390773dfeb122b17, його індекс в items_ids - 18\n"
     ]
    }
   ],
   "source": [
    "print(f'Товари, що не були придбані: \\n')\n",
    "\n",
    "for item in items_ids:\n",
    "    if item not in orders.distinct('items_id'):\n",
    "        print(f'ID предмета: {item}, його індекс в items_ids - {list(items_ids).index(item)}')"
   ]
  },
  {
   "cell_type": "code",
   "execution_count": 53,
   "id": "59ddffdb",
   "metadata": {},
   "outputs": [],
   "source": [
    "new_item = items_ids[16]"
   ]
  },
  {
   "cell_type": "code",
   "execution_count": 54,
   "id": "5a19b25c",
   "metadata": {},
   "outputs": [
    {
     "data": {
      "text/plain": [
       "'666b440a390773dfeb122b15'"
      ]
     },
     "execution_count": 54,
     "metadata": {},
     "output_type": "execute_result"
    }
   ],
   "source": [
    "new_item"
   ]
  },
  {
   "cell_type": "code",
   "execution_count": 56,
   "id": "4f836b31",
   "metadata": {},
   "outputs": [
    {
     "data": {
      "text/plain": [
       "850"
      ]
     },
     "execution_count": 56,
     "metadata": {},
     "output_type": "execute_result"
    }
   ],
   "source": [
    "new_item_price = get_item_price(new_item)\n",
    "new_item_price"
   ]
  },
  {
   "cell_type": "code",
   "execution_count": 57,
   "id": "d7b432a060e8dec3",
   "metadata": {
    "ExecuteTime": {
     "end_time": "2024-05-06T23:44:13.703889200Z",
     "start_time": "2024-05-06T23:44:13.638023900Z"
    }
   },
   "outputs": [
    {
     "data": {
      "text/plain": [
       "UpdateResult({'n': 2, 'nModified': 2, 'ok': 1.0, 'updatedExisting': True}, acknowledged=True)"
      ]
     },
     "execution_count": 57,
     "metadata": {},
     "output_type": "execute_result"
    }
   ],
   "source": [
    "cond = {\n",
    "    'items_id': repeated\n",
    "}\n",
    "\n",
    "update = {\n",
    "    '$push': {'items_id': new_item},\n",
    "    '$inc': {'total_sum': new_item_price}\n",
    "}\n",
    "\n",
    "orders.update_many(cond, update)"
   ]
  },
  {
   "cell_type": "markdown",
   "id": "7a9fb492",
   "metadata": {},
   "source": [
    "Оновлені записи:"
   ]
  },
  {
   "cell_type": "code",
   "execution_count": 58,
   "id": "bef62d58",
   "metadata": {},
   "outputs": [
    {
     "data": {
      "text/plain": [
       "[{'_id': ObjectId('666b4618390773dfeb122b1b'),\n",
       "  'order_number': 1003,\n",
       "  'date': datetime.datetime(2021, 5, 16, 0, 0),\n",
       "  'total_sum': 4880,\n",
       "  'customer': {'name': 'Daniel',\n",
       "   'surname': 'Williams',\n",
       "   'phones': [2166047892, 6979180745],\n",
       "   'address': 'Third Boulevard 56, Odesa, UA'},\n",
       "  'payment': {'card_owner': 'Daniel Williams', 'cardId': 4944007283},\n",
       "  'items_id': ['666b440a390773dfeb122b11',\n",
       "   '666b440a390773dfeb122b0c',\n",
       "   '666b440a390773dfeb122b13',\n",
       "   '666b440a390773dfeb122b0f',\n",
       "   '666b440a390773dfeb122b15']},\n",
       " {'_id': ObjectId('666b4618390773dfeb122b1e'),\n",
       "  'order_number': 1006,\n",
       "  'date': datetime.datetime(2021, 8, 4, 0, 0),\n",
       "  'total_sum': 4830,\n",
       "  'customer': {'name': 'Isabella',\n",
       "   'surname': 'Garcia',\n",
       "   'phones': [1461539365],\n",
       "   'address': 'Sixth Street 123, Kharkiv, UA'},\n",
       "  'payment': {'card_owner': 'Isabella Garcia', 'cardId': 4414045110},\n",
       "  'items_id': ['666b440a390773dfeb122b0f',\n",
       "   '666b440a390773dfeb122b10',\n",
       "   '666b440a390773dfeb122b13',\n",
       "   '666b440a390773dfeb122b15']}]"
      ]
     },
     "execution_count": 58,
     "metadata": {},
     "output_type": "execute_result"
    }
   ],
   "source": [
    "list(orders.find({'items_id': new_item}))"
   ]
  },
  {
   "cell_type": "markdown",
   "id": "19917e90",
   "metadata": {},
   "source": [
    "#### 2.7 Виведіть кількість товарів в певному замовленні"
   ]
  },
  {
   "cell_type": "code",
   "execution_count": 59,
   "id": "400bb448c9f17204",
   "metadata": {
    "ExecuteTime": {
     "end_time": "2024-05-06T23:44:13.763202400Z",
     "start_time": "2024-05-06T23:44:13.703889200Z"
    }
   },
   "outputs": [
    {
     "data": {
      "text/plain": [
       "3"
      ]
     },
     "execution_count": 59,
     "metadata": {},
     "output_type": "execute_result"
    }
   ],
   "source": [
    "cond = {\n",
    "    'order_number': 1001\n",
    "}\n",
    "\n",
    "len(orders.find_one(cond)['items_id'])"
   ]
  },
  {
   "cell_type": "markdown",
   "id": "a8e4fcae",
   "metadata": {},
   "source": [
    "#### 2.8 Виведіть тільки інформацію про кастомера і номери кредитної карт, для замовлень вартість яких перевищує певну суму"
   ]
  },
  {
   "cell_type": "code",
   "execution_count": 63,
   "id": "d07bfdd95e9af2e",
   "metadata": {
    "ExecuteTime": {
     "end_time": "2024-05-06T23:44:13.838004Z",
     "start_time": "2024-05-06T23:44:13.763202400Z"
    }
   },
   "outputs": [
    {
     "data": {
      "text/plain": [
       "[{'customer': {'name': 'Michael',\n",
       "   'surname': 'Smith',\n",
       "   'phones': [3147353095, 9528909627],\n",
       "   'address': 'Main Street 12, Lviv, UA'},\n",
       "  'payment': {'cardId': 4751727291}},\n",
       " {'customer': {'name': 'Daniel',\n",
       "   'surname': 'Williams',\n",
       "   'phones': [2166047892, 6979180745],\n",
       "   'address': 'Third Boulevard 56, Odesa, UA'},\n",
       "  'payment': {'cardId': 4944007283}},\n",
       " {'customer': {'name': 'James',\n",
       "   'surname': 'Jones',\n",
       "   'phones': [1818407023, 2537146795],\n",
       "   'address': 'Fifth Avenue 90, Zaporizhzhia, UA'},\n",
       "  'payment': {'cardId': 4072261201}},\n",
       " {'customer': {'name': 'Isabella',\n",
       "   'surname': 'Garcia',\n",
       "   'phones': [1461539365],\n",
       "   'address': 'Sixth Street 123, Kharkiv, UA'},\n",
       "  'payment': {'cardId': 4414045110}},\n",
       " {'customer': {'name': 'Charlotte',\n",
       "   'surname': 'Miller',\n",
       "   'phones': [8724487504],\n",
       "   'address': 'Seventh Road 456, Kharkiv, UA'},\n",
       "  'payment': {'cardId': 4278186099}}]"
      ]
     },
     "execution_count": 63,
     "metadata": {},
     "output_type": "execute_result"
    }
   ],
   "source": [
    "cond = {\n",
    "    'total_sum': {'$gt': 2999}\n",
    "}\n",
    "\n",
    "attrs = {\n",
    "    '_id': 0,\n",
    "    'customer': 1,\n",
    "    'payment.cardId': 1\n",
    "}\n",
    "\n",
    "cursor = orders.find(cond, attrs)\n",
    "\n",
    "list(cursor)"
   ]
  },
  {
   "cell_type": "markdown",
   "id": "85baa04d",
   "metadata": {},
   "source": [
    "#### 2.9 Видаліть товар з замовлень, зроблених за певний період дат"
   ]
  },
  {
   "cell_type": "markdown",
   "id": "c9f74084",
   "metadata": {},
   "source": [
    "Усі дати, в які робились замовлення:"
   ]
  },
  {
   "cell_type": "code",
   "execution_count": 64,
   "id": "3ed42e52",
   "metadata": {},
   "outputs": [
    {
     "data": {
      "text/plain": [
       "[datetime.datetime(2021, 3, 17, 0, 0),\n",
       " datetime.datetime(2021, 4, 15, 0, 0),\n",
       " datetime.datetime(2021, 5, 16, 0, 0),\n",
       " datetime.datetime(2021, 6, 18, 0, 0),\n",
       " datetime.datetime(2021, 7, 19, 0, 0),\n",
       " datetime.datetime(2021, 8, 4, 0, 0),\n",
       " datetime.datetime(2021, 9, 21, 0, 0)]"
      ]
     },
     "execution_count": 64,
     "metadata": {},
     "output_type": "execute_result"
    }
   ],
   "source": [
    "orders.distinct('date')"
   ]
  },
  {
   "cell_type": "code",
   "execution_count": 65,
   "id": "7d217e57",
   "metadata": {},
   "outputs": [
    {
     "name": "stdout",
     "output_type": "stream",
     "text": [
      "Товари, що були придбані: \n",
      "\n",
      "ID предмета: 666b440a390773dfeb122b05, його індекс в items_ids - 0\n",
      "ID предмета: 666b440a390773dfeb122b06, його індекс в items_ids - 1\n",
      "ID предмета: 666b440a390773dfeb122b07, його індекс в items_ids - 2\n",
      "ID предмета: 666b440a390773dfeb122b08, його індекс в items_ids - 3\n",
      "ID предмета: 666b440a390773dfeb122b09, його індекс в items_ids - 4\n",
      "ID предмета: 666b440a390773dfeb122b0a, його індекс в items_ids - 5\n",
      "ID предмета: 666b440a390773dfeb122b0c, його індекс в items_ids - 7\n",
      "ID предмета: 666b440a390773dfeb122b0e, його індекс в items_ids - 9\n",
      "ID предмета: 666b440a390773dfeb122b0f, його індекс в items_ids - 10\n",
      "ID предмета: 666b440a390773dfeb122b10, його індекс в items_ids - 11\n",
      "ID предмета: 666b440a390773dfeb122b11, його індекс в items_ids - 12\n",
      "ID предмета: 666b440a390773dfeb122b12, його індекс в items_ids - 13\n",
      "ID предмета: 666b440a390773dfeb122b13, його індекс в items_ids - 14\n",
      "ID предмета: 666b440a390773dfeb122b14, його індекс в items_ids - 15\n",
      "ID предмета: 666b440a390773dfeb122b15, його індекс в items_ids - 16\n",
      "ID предмета: 666b440a390773dfeb122b16, його індекс в items_ids - 17\n",
      "ID предмета: 666b440a390773dfeb122b18, його індекс в items_ids - 19\n"
     ]
    }
   ],
   "source": [
    "print(f'Товари, що були придбані: \\n')\n",
    "\n",
    "for item in items_ids:\n",
    "    if item in orders.distinct('items_id'):\n",
    "        print(f'ID предмета: {item}, його індекс в items_ids - {list(items_ids).index(item)}')"
   ]
  },
  {
   "cell_type": "markdown",
   "id": "6e745e9e",
   "metadata": {},
   "source": [
    "ID предмета, що буде видалений із замовлень"
   ]
  },
  {
   "cell_type": "code",
   "execution_count": 66,
   "id": "1ceaaa31",
   "metadata": {},
   "outputs": [],
   "source": [
    "item_for_deletion = items_ids[10]"
   ]
  },
  {
   "cell_type": "code",
   "execution_count": 67,
   "id": "bf3e35b2f6614070",
   "metadata": {
    "ExecuteTime": {
     "end_time": "2024-05-06T23:44:13.891285900Z",
     "start_time": "2024-05-06T23:44:13.822339100Z"
    }
   },
   "outputs": [
    {
     "data": {
      "text/plain": [
       "UpdateResult({'n': 4, 'nModified': 2, 'ok': 1.0, 'updatedExisting': True}, acknowledged=True)"
      ]
     },
     "execution_count": 67,
     "metadata": {},
     "output_type": "execute_result"
    }
   ],
   "source": [
    "condition = {\n",
    "    'date': {\n",
    "        '$gte': datetime(2021, 5, 1),\n",
    "        '$lte': datetime(2021, 9, 1)\n",
    "    }\n",
    "}\n",
    "\n",
    "update = {\n",
    "    '$pull': {'items_id': item_for_deletion}\n",
    "}\n",
    "\n",
    "orders.update_many(condition, update)"
   ]
  },
  {
   "cell_type": "markdown",
   "id": "fb014227",
   "metadata": {},
   "source": [
    "#### 2.10 Перейменуйте у всіх замовлення ім'я (прізвище) замовника"
   ]
  },
  {
   "cell_type": "code",
   "execution_count": 68,
   "id": "2e6fc244f68466ce",
   "metadata": {
    "ExecuteTime": {
     "end_time": "2024-05-06T23:44:13.964169600Z",
     "start_time": "2024-05-06T23:44:13.891285900Z"
    }
   },
   "outputs": [
    {
     "data": {
      "text/plain": [
       "UpdateResult({'n': 7, 'nModified': 7, 'ok': 1.0, 'updatedExisting': True}, acknowledged=True)"
      ]
     },
     "execution_count": 68,
     "metadata": {},
     "output_type": "execute_result"
    }
   ],
   "source": [
    "update = {\n",
    "    '$set': {'customer.surname': 'Ponomarenko'}\n",
    "}\n",
    "\n",
    "orders.update_many({}, update)"
   ]
  },
  {
   "cell_type": "code",
   "execution_count": 69,
   "id": "c578c915",
   "metadata": {},
   "outputs": [
    {
     "data": {
      "text/plain": [
       "[{'_id': ObjectId('666b4618390773dfeb122b19'),\n",
       "  'order_number': 1001,\n",
       "  'date': datetime.datetime(2021, 3, 17, 0, 0),\n",
       "  'total_sum': 4000,\n",
       "  'customer': {'name': 'Michael',\n",
       "   'surname': 'Ponomarenko',\n",
       "   'phones': [3147353095, 9528909627],\n",
       "   'address': 'Main Street 12, Lviv, UA'},\n",
       "  'payment': {'card_owner': 'Michael Smith', 'cardId': 4751727291},\n",
       "  'items_id': ['666b440a390773dfeb122b13',\n",
       "   '666b440a390773dfeb122b14',\n",
       "   '666b440a390773dfeb122b09']},\n",
       " {'_id': ObjectId('666b4618390773dfeb122b1a'),\n",
       "  'order_number': 1002,\n",
       "  'date': datetime.datetime(2021, 4, 15, 0, 0),\n",
       "  'total_sum': 1550,\n",
       "  'customer': {'name': 'Emily',\n",
       "   'surname': 'Ponomarenko',\n",
       "   'phones': [8860698173],\n",
       "   'address': 'Second Avenue 34, Dnipro, UA'},\n",
       "  'payment': {'card_owner': 'Emily Johnson', 'cardId': 4328325044},\n",
       "  'items_id': ['666b440a390773dfeb122b06', '666b440a390773dfeb122b08']},\n",
       " {'_id': ObjectId('666b4618390773dfeb122b1b'),\n",
       "  'order_number': 1003,\n",
       "  'date': datetime.datetime(2021, 5, 16, 0, 0),\n",
       "  'total_sum': 4880,\n",
       "  'customer': {'name': 'Daniel',\n",
       "   'surname': 'Ponomarenko',\n",
       "   'phones': [2166047892, 6979180745],\n",
       "   'address': 'Third Boulevard 56, Odesa, UA'},\n",
       "  'payment': {'card_owner': 'Daniel Williams', 'cardId': 4944007283},\n",
       "  'items_id': ['666b440a390773dfeb122b11',\n",
       "   '666b440a390773dfeb122b0c',\n",
       "   '666b440a390773dfeb122b13',\n",
       "   '666b440a390773dfeb122b15']},\n",
       " {'_id': ObjectId('666b4618390773dfeb122b1c'),\n",
       "  'order_number': 1004,\n",
       "  'date': datetime.datetime(2021, 6, 18, 0, 0),\n",
       "  'total_sum': 2500,\n",
       "  'customer': {'name': 'Sophia',\n",
       "   'surname': 'Ponomarenko',\n",
       "   'phones': [4907882364],\n",
       "   'address': 'Fourth Street 78, Kyiv, UA'},\n",
       "  'payment': {'card_owner': 'Sophia Brown', 'cardId': 4744306892},\n",
       "  'items_id': ['666b440a390773dfeb122b07', '666b440a390773dfeb122b11']},\n",
       " {'_id': ObjectId('666b4618390773dfeb122b1d'),\n",
       "  'order_number': 1005,\n",
       "  'date': datetime.datetime(2021, 7, 19, 0, 0),\n",
       "  'total_sum': 6200,\n",
       "  'customer': {'name': 'James',\n",
       "   'surname': 'Ponomarenko',\n",
       "   'phones': [1818407023, 2537146795],\n",
       "   'address': 'Fifth Avenue 90, Zaporizhzhia, UA'},\n",
       "  'payment': {'card_owner': 'James Jones', 'cardId': 4072261201},\n",
       "  'items_id': ['666b440a390773dfeb122b16',\n",
       "   '666b440a390773dfeb122b18',\n",
       "   '666b440a390773dfeb122b10',\n",
       "   '666b440a390773dfeb122b06',\n",
       "   '666b440a390773dfeb122b12']},\n",
       " {'_id': ObjectId('666b4618390773dfeb122b1e'),\n",
       "  'order_number': 1006,\n",
       "  'date': datetime.datetime(2021, 8, 4, 0, 0),\n",
       "  'total_sum': 4830,\n",
       "  'customer': {'name': 'Isabella',\n",
       "   'surname': 'Ponomarenko',\n",
       "   'phones': [1461539365],\n",
       "   'address': 'Sixth Street 123, Kharkiv, UA'},\n",
       "  'payment': {'card_owner': 'Isabella Garcia', 'cardId': 4414045110},\n",
       "  'items_id': ['666b440a390773dfeb122b10',\n",
       "   '666b440a390773dfeb122b13',\n",
       "   '666b440a390773dfeb122b15']},\n",
       " {'_id': ObjectId('666b4618390773dfeb122b1f'),\n",
       "  'order_number': 1007,\n",
       "  'date': datetime.datetime(2021, 9, 21, 0, 0),\n",
       "  'total_sum': 4350,\n",
       "  'customer': {'name': 'Charlotte',\n",
       "   'surname': 'Ponomarenko',\n",
       "   'phones': [8724487504],\n",
       "   'address': 'Seventh Road 456, Kharkiv, UA'},\n",
       "  'payment': {'card_owner': 'Charlotte Miller', 'cardId': 4278186099},\n",
       "  'items_id': ['666b440a390773dfeb122b0e',\n",
       "   '666b440a390773dfeb122b07',\n",
       "   '666b440a390773dfeb122b06',\n",
       "   '666b440a390773dfeb122b05',\n",
       "   '666b440a390773dfeb122b0a']}]"
      ]
     },
     "execution_count": 69,
     "metadata": {},
     "output_type": "execute_result"
    }
   ],
   "source": [
    "list(orders.find())"
   ]
  },
  {
   "cell_type": "markdown",
   "id": "5625f22d",
   "metadata": {},
   "source": [
    "#### 2.11 Знайдіть замовлення зроблені одним замовником, і виведіть тільки інформацію про кастомера та товари у замовлені підставивши замість ObjectId(\"*****\") назви товарів та їх вартість (аналог join-а між таблицями orders та items)."
   ]
  },
  {
   "cell_type": "code",
   "execution_count": 70,
   "id": "f4d23a82dcfb0262",
   "metadata": {
    "ExecuteTime": {
     "end_time": "2024-05-06T23:44:14.027634200Z",
     "start_time": "2024-05-06T23:44:13.964169600Z"
    }
   },
   "outputs": [
    {
     "data": {
      "text/plain": [
       "[{'customer': {'name': 'Michael',\n",
       "   'surname': 'Ponomarenko',\n",
       "   'phones': [3147353095, 9528909627],\n",
       "   'address': 'Main Street 12, Lviv, UA'},\n",
       "  'ordered_items': [{'model': 'QLED Q80T', 'price': 1200},\n",
       "   {'model': 'HP Spectre x360', 'price': 1600},\n",
       "   {'model': 'iPad Pro', 'price': 1200}]}]"
      ]
     },
     "execution_count": 70,
     "metadata": {},
     "output_type": "execute_result"
    }
   ],
   "source": [
    "pipeline = [\n",
    "    {'$match': {'customer.name': 'Michael', 'customer.surname': 'Ponomarenko'}},\n",
    "\n",
    "    # спочатку конвертуємо усі id товарів у ObjectId об'єкти,\n",
    "    # аби можна було звертатись до відповідних документів з\n",
    "    # items за потрібною інформацією\n",
    "    {\"$addFields\": {\n",
    "        \"items_id\": {\n",
    "            \"$map\": {\n",
    "                \"input\": \"$items_id\",\n",
    "                \"in\": {\"$toObjectId\": \"$$this\"}\n",
    "            }\n",
    "        }\n",
    "    }},\n",
    "\n",
    "    # аналог join'a між items i orders по \n",
    "    # _id товару з items і відповідно id товару\n",
    "    # з items_id у orders\n",
    "    {'$lookup': {\n",
    "        'from': 'items',\n",
    "        'localField': 'items_id',\n",
    "        'foreignField': '_id',\n",
    "        'as': 'ordered_items'\n",
    "    }},\n",
    "\n",
    "    {'$project': {\n",
    "        '_id': 0,\n",
    "        'customer': 1,\n",
    "        'ordered_items.model': 1,\n",
    "        'ordered_items.price': 1\n",
    "    }}\n",
    "]\n",
    "\n",
    "list(orders.aggregate(pipeline))"
   ]
  },
  {
   "cell_type": "markdown",
   "id": "867de9e9",
   "metadata": {},
   "source": [
    "### 3. Створіть [Сapped collection](https://www.mongodb.com/docs/manual/core/capped-collections/) яка б містила 5 останніх відгуків на наш інтернет-магазин. Структуру запису визначити самостійно."
   ]
  },
  {
   "cell_type": "markdown",
   "id": "7c141a01",
   "metadata": {},
   "source": [
    "Створення *capped collection* під відгуки (reviews):"
   ]
  },
  {
   "cell_type": "code",
   "execution_count": 71,
   "id": "4d67a787",
   "metadata": {},
   "outputs": [
    {
     "data": {
      "text/plain": [
       "Collection(Database(MongoClient(host=['localhost:27017'], document_class=dict, tz_aware=False, connect=True), 'lab4'), 'reviews')"
      ]
     },
     "execution_count": 71,
     "metadata": {},
     "output_type": "execute_result"
    }
   ],
   "source": [
    "mydb.create_collection('reviews', capped=True, max=5, size=1e5)"
   ]
  },
  {
   "cell_type": "code",
   "execution_count": 72,
   "id": "760dc1c61abe79f4",
   "metadata": {
    "ExecuteTime": {
     "end_time": "2024-05-06T23:44:14.276317600Z",
     "start_time": "2024-05-06T23:44:14.025053700Z"
    }
   },
   "outputs": [],
   "source": [
    "reviews = mydb['reviews']"
   ]
  },
  {
   "cell_type": "code",
   "execution_count": 73,
   "id": "9d65bf2c93d984b8",
   "metadata": {
    "ExecuteTime": {
     "end_time": "2024-05-06T23:44:14.344548200Z",
     "start_time": "2024-05-06T23:44:14.284125900Z"
    }
   },
   "outputs": [
    {
     "data": {
      "text/plain": [
       "InsertManyResult([ObjectId('666b48fc390773dfeb122b20'), ObjectId('666b48fc390773dfeb122b21'), ObjectId('666b48fc390773dfeb122b22'), ObjectId('666b48fc390773dfeb122b23'), ObjectId('666b48fc390773dfeb122b24')], acknowledged=True)"
      ]
     },
     "execution_count": 73,
     "metadata": {},
     "output_type": "execute_result"
    }
   ],
   "source": [
    "some_reviews = [\n",
    "    {\n",
    "        'customer_name': 'John Doe',\n",
    "        'rating': 5,\n",
    "        'comment': 'Excellent service!',\n",
    "        'date': datetime.utcnow()\n",
    "    },\n",
    "    {\n",
    "        'customer_name': 'Jane Smith',\n",
    "        'rating': 4,\n",
    "        'comment': 'Good quality products.',\n",
    "        'date': datetime.utcnow()\n",
    "    },\n",
    "    {\n",
    "        'customer_name': 'Emily Johnson',\n",
    "        'rating': 3,\n",
    "        'comment': 'Average experience.',\n",
    "        'date': datetime.utcnow()\n",
    "    },\n",
    "    {\n",
    "        'customer_name': 'Michael Brown',\n",
    "        'rating': 2,\n",
    "        'comment': 'Could be better.',\n",
    "        'date': datetime.utcnow()\n",
    "    },\n",
    "    {\n",
    "        'customer_name': 'Jessica Davis',\n",
    "        'rating': 1,\n",
    "        'comment': 'Very disappointed.',\n",
    "        'date': datetime.utcnow()\n",
    "    }\n",
    "]\n",
    "\n",
    "reviews.insert_many(some_reviews)"
   ]
  },
  {
   "cell_type": "code",
   "execution_count": 74,
   "id": "e82b0db2fe4522b6",
   "metadata": {
    "ExecuteTime": {
     "end_time": "2024-05-06T23:44:14.407118700Z",
     "start_time": "2024-05-06T23:44:14.344548200Z"
    }
   },
   "outputs": [
    {
     "data": {
      "text/plain": [
       "[{'_id': ObjectId('666b48fc390773dfeb122b20'),\n",
       "  'customer_name': 'John Doe',\n",
       "  'rating': 5,\n",
       "  'comment': 'Excellent service!',\n",
       "  'date': datetime.datetime(2024, 6, 13, 19, 31, 8, 797000)},\n",
       " {'_id': ObjectId('666b48fc390773dfeb122b21'),\n",
       "  'customer_name': 'Jane Smith',\n",
       "  'rating': 4,\n",
       "  'comment': 'Good quality products.',\n",
       "  'date': datetime.datetime(2024, 6, 13, 19, 31, 8, 797000)},\n",
       " {'_id': ObjectId('666b48fc390773dfeb122b22'),\n",
       "  'customer_name': 'Emily Johnson',\n",
       "  'rating': 3,\n",
       "  'comment': 'Average experience.',\n",
       "  'date': datetime.datetime(2024, 6, 13, 19, 31, 8, 797000)},\n",
       " {'_id': ObjectId('666b48fc390773dfeb122b23'),\n",
       "  'customer_name': 'Michael Brown',\n",
       "  'rating': 2,\n",
       "  'comment': 'Could be better.',\n",
       "  'date': datetime.datetime(2024, 6, 13, 19, 31, 8, 797000)},\n",
       " {'_id': ObjectId('666b48fc390773dfeb122b24'),\n",
       "  'customer_name': 'Jessica Davis',\n",
       "  'rating': 1,\n",
       "  'comment': 'Very disappointed.',\n",
       "  'date': datetime.datetime(2024, 6, 13, 19, 31, 8, 797000)}]"
      ]
     },
     "execution_count": 74,
     "metadata": {},
     "output_type": "execute_result"
    }
   ],
   "source": [
    "list(reviews.find())"
   ]
  },
  {
   "cell_type": "markdown",
   "id": "ed2474ee",
   "metadata": {},
   "source": [
    "#### 3.1 Перевірте що при досягненні обмеження старі відгуки будуть затиратись"
   ]
  },
  {
   "cell_type": "markdown",
   "id": "59ba52f0",
   "metadata": {},
   "source": [
    "Додаємо нове рев'ю:"
   ]
  },
  {
   "cell_type": "code",
   "execution_count": 75,
   "id": "e9eb3c662c529c5a",
   "metadata": {
    "ExecuteTime": {
     "end_time": "2024-05-06T23:44:14.527273500Z",
     "start_time": "2024-05-06T23:44:14.407118700Z"
    }
   },
   "outputs": [
    {
     "data": {
      "text/plain": [
       "InsertOneResult(ObjectId('666b4910390773dfeb122b25'), acknowledged=True)"
      ]
     },
     "execution_count": 75,
     "metadata": {},
     "output_type": "execute_result"
    }
   ],
   "source": [
    "reviews.insert_one({\n",
    "    'customer_name': 'George White',\n",
    "    'rating': 5,\n",
    "    'comment': 'Amazing support!',\n",
    "    'date': datetime.utcnow()\n",
    "})"
   ]
  },
  {
   "cell_type": "code",
   "execution_count": 76,
   "id": "a819c587",
   "metadata": {},
   "outputs": [
    {
     "data": {
      "text/plain": [
       "[{'_id': ObjectId('666b48fc390773dfeb122b21'),\n",
       "  'customer_name': 'Jane Smith',\n",
       "  'rating': 4,\n",
       "  'comment': 'Good quality products.',\n",
       "  'date': datetime.datetime(2024, 6, 13, 19, 31, 8, 797000)},\n",
       " {'_id': ObjectId('666b48fc390773dfeb122b22'),\n",
       "  'customer_name': 'Emily Johnson',\n",
       "  'rating': 3,\n",
       "  'comment': 'Average experience.',\n",
       "  'date': datetime.datetime(2024, 6, 13, 19, 31, 8, 797000)},\n",
       " {'_id': ObjectId('666b48fc390773dfeb122b23'),\n",
       "  'customer_name': 'Michael Brown',\n",
       "  'rating': 2,\n",
       "  'comment': 'Could be better.',\n",
       "  'date': datetime.datetime(2024, 6, 13, 19, 31, 8, 797000)},\n",
       " {'_id': ObjectId('666b48fc390773dfeb122b24'),\n",
       "  'customer_name': 'Jessica Davis',\n",
       "  'rating': 1,\n",
       "  'comment': 'Very disappointed.',\n",
       "  'date': datetime.datetime(2024, 6, 13, 19, 31, 8, 797000)},\n",
       " {'_id': ObjectId('666b4910390773dfeb122b25'),\n",
       "  'customer_name': 'George White',\n",
       "  'rating': 5,\n",
       "  'comment': 'Amazing support!',\n",
       "  'date': datetime.datetime(2024, 6, 13, 19, 31, 28, 265000)}]"
      ]
     },
     "execution_count": 76,
     "metadata": {},
     "output_type": "execute_result"
    }
   ],
   "source": [
    "list(reviews.find())"
   ]
  }
 ],
 "metadata": {
  "kernelspec": {
   "display_name": "Python 3 (ipykernel)",
   "language": "python",
   "name": "python3"
  },
  "language_info": {
   "codemirror_mode": {
    "name": "ipython",
    "version": 3
   },
   "file_extension": ".py",
   "mimetype": "text/x-python",
   "name": "python",
   "nbconvert_exporter": "python",
   "pygments_lexer": "ipython3",
   "version": "3.9.12"
  }
 },
 "nbformat": 4,
 "nbformat_minor": 5
}
